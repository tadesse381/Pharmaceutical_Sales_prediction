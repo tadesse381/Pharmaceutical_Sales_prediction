{
 "cells": [
  {
   "cell_type": "code",
   "execution_count": 23,
   "id": "94550b41",
   "metadata": {},
   "outputs": [],
   "source": [
    "import warnings\n",
    "warnings.filterwarnings(\"ignore\")\n",
    "\n",
    "import os\n",
    "import logging\n",
    "logging.basicConfig(level=os.environ.get(\"LOGLEVEL\", \"INFO\"))\n",
    "\n",
    "import pandas as pd\n",
    "import dvc.api\n",
    "##\n",
    "from sklearn.preprocessing import LabelEncoder\n",
    "from sklearn.preprocessing import MinMaxScaler\n",
    "from sklearn.linear_model import LinearRegression\n",
    "from sklearn.ensemble import RandomForestRegressor\n",
    "from sklearn.tree import DecisionTreeRegressor  \n",
    "\n",
    "from sklearn.model_selection import train_test_split\n",
    "from sklearn.pipeline import Pipeline\n",
    "import mlflow\n",
    "from sklearn.model_selection import KFold\n",
    "from sklearn.metrics import mean_squared_error, mean_absolute_error\n",
    "\n",
    "import pickle # Read and Save model - Serialization\n",
    "from datetime import datetime\n",
    "\n",
    "# custom functions\n",
    "import sys\n",
    "sys.path.append(\"/Users/user/Pharmaceutical_Sales_prediction\")\n",
    "from scripts import util\n",
    "from scripts import plot"
   ]
  },
  {
   "cell_type": "code",
   "execution_count": 32,
   "id": "11221682",
   "metadata": {},
   "outputs": [],
   "source": [
    "# Get URL from DVC\n",
    "#path = 'data/clean_train_store.csv'\n",
    "#repo = 'https://github.com/tadesse381/Pharmaceutical_Sales_prediction'\n",
    "#version = '7a996457b61690186323875ca2e1966d794c5846'"
   ]
  },
  {
   "cell_type": "code",
   "execution_count": 24,
   "id": "1562e38f",
   "metadata": {},
   "outputs": [],
   "source": [
    "## Read Datas\n",
    "\n",
    "# Load data from dvc using the dvc.api.Dataset class\n",
    "#data_url = dvc.api.get_url(\n",
    "    #path=path,\n",
    "    #repo=repo,\n",
    "    #rev=version\n",
    "#)"
   ]
  },
  {
   "cell_type": "code",
   "execution_count": 30,
   "id": "0d259f93",
   "metadata": {},
   "outputs": [],
   "source": [
    "store_file = '../data/clean_train_store.csv'"
   ]
  },
  {
   "cell_type": "code",
   "execution_count": 31,
   "id": "a79d7c44",
   "metadata": {},
   "outputs": [],
   "source": [
    "train_store_df = pd.read_csv(store_file,low_memory = False)"
   ]
  },
  {
   "cell_type": "markdown",
   "id": "2ce3fddf",
   "metadata": {},
   "source": [
    "### Preprocessing"
   ]
  },
  {
   "cell_type": "code",
   "execution_count": 32,
   "id": "1ed7d678",
   "metadata": {},
   "outputs": [
    {
     "name": "stdout",
     "output_type": "stream",
     "text": [
      "<class 'pandas.core.frame.DataFrame'>\n",
      "RangeIndex: 204187 entries, 0 to 204186\n",
      "Data columns (total 23 columns):\n",
      " #   Column                     Non-Null Count   Dtype  \n",
      "---  ------                     --------------   -----  \n",
      " 0   Store                      204187 non-null  int64  \n",
      " 1   DayOfWeek                  204187 non-null  int64  \n",
      " 2   Date                       204187 non-null  object \n",
      " 3   Sales                      204187 non-null  int64  \n",
      " 4   Customers                  204187 non-null  int64  \n",
      " 5   Open                       204187 non-null  int64  \n",
      " 6   Promo                      204187 non-null  int64  \n",
      " 7   StateHoliday               204187 non-null  object \n",
      " 8   SchoolHoliday              204187 non-null  int64  \n",
      " 9   Year                       204187 non-null  int64  \n",
      " 10  Month                      204187 non-null  int64  \n",
      " 11  Day                        204187 non-null  int64  \n",
      " 12  WeekOfYear                 204187 non-null  int64  \n",
      " 13  SalePerCustomer            204187 non-null  float64\n",
      " 14  StoreType                  204187 non-null  object \n",
      " 15  Assortment                 204187 non-null  object \n",
      " 16  CompetitionDistance        204187 non-null  float64\n",
      " 17  CompetitionOpenSinceMonth  204187 non-null  float64\n",
      " 18  CompetitionOpenSinceYear   204187 non-null  float64\n",
      " 19  Promo2                     204187 non-null  int64  \n",
      " 20  Promo2SinceWeek            204187 non-null  float64\n",
      " 21  Promo2SinceYear            204187 non-null  float64\n",
      " 22  PromoInterval              204187 non-null  object \n",
      "dtypes: float64(6), int64(12), object(5)\n",
      "memory usage: 35.8+ MB\n"
     ]
    }
   ],
   "source": [
    "train_store_df.info()"
   ]
  },
  {
   "cell_type": "code",
   "execution_count": 33,
   "id": "b2b2e5fe",
   "metadata": {},
   "outputs": [
    {
     "data": {
      "text/html": [
       "<div>\n",
       "<style scoped>\n",
       "    .dataframe tbody tr th:only-of-type {\n",
       "        vertical-align: middle;\n",
       "    }\n",
       "\n",
       "    .dataframe tbody tr th {\n",
       "        vertical-align: top;\n",
       "    }\n",
       "\n",
       "    .dataframe thead th {\n",
       "        text-align: right;\n",
       "    }\n",
       "</style>\n",
       "<table border=\"1\" class=\"dataframe\">\n",
       "  <thead>\n",
       "    <tr style=\"text-align: right;\">\n",
       "      <th></th>\n",
       "      <th>Store</th>\n",
       "      <th>DayOfWeek</th>\n",
       "      <th>Open</th>\n",
       "      <th>Promo</th>\n",
       "      <th>SchoolHoliday</th>\n",
       "      <th>Day</th>\n",
       "      <th>WeekOfYear</th>\n",
       "      <th>Month</th>\n",
       "      <th>Year</th>\n",
       "      <th>StoreType</th>\n",
       "      <th>Assortment</th>\n",
       "      <th>CompetitionDistance</th>\n",
       "      <th>Promo2</th>\n",
       "    </tr>\n",
       "  </thead>\n",
       "  <tbody>\n",
       "    <tr>\n",
       "      <th>58170</th>\n",
       "      <td>64</td>\n",
       "      <td>6</td>\n",
       "      <td>1</td>\n",
       "      <td>0</td>\n",
       "      <td>0</td>\n",
       "      <td>5</td>\n",
       "      <td>40</td>\n",
       "      <td>10</td>\n",
       "      <td>2013</td>\n",
       "      <td>d</td>\n",
       "      <td>c</td>\n",
       "      <td>22560.0</td>\n",
       "      <td>1</td>\n",
       "    </tr>\n",
       "    <tr>\n",
       "      <th>127554</th>\n",
       "      <td>141</td>\n",
       "      <td>4</td>\n",
       "      <td>1</td>\n",
       "      <td>0</td>\n",
       "      <td>1</td>\n",
       "      <td>30</td>\n",
       "      <td>44</td>\n",
       "      <td>10</td>\n",
       "      <td>2014</td>\n",
       "      <td>c</td>\n",
       "      <td>c</td>\n",
       "      <td>1540.0</td>\n",
       "      <td>1</td>\n",
       "    </tr>\n",
       "    <tr>\n",
       "      <th>197942</th>\n",
       "      <td>219</td>\n",
       "      <td>4</td>\n",
       "      <td>1</td>\n",
       "      <td>1</td>\n",
       "      <td>0</td>\n",
       "      <td>20</td>\n",
       "      <td>12</td>\n",
       "      <td>3</td>\n",
       "      <td>2014</td>\n",
       "      <td>a</td>\n",
       "      <td>a</td>\n",
       "      <td>1640.0</td>\n",
       "      <td>0</td>\n",
       "    </tr>\n",
       "    <tr>\n",
       "      <th>97724</th>\n",
       "      <td>107</td>\n",
       "      <td>1</td>\n",
       "      <td>1</td>\n",
       "      <td>0</td>\n",
       "      <td>0</td>\n",
       "      <td>6</td>\n",
       "      <td>19</td>\n",
       "      <td>5</td>\n",
       "      <td>2013</td>\n",
       "      <td>a</td>\n",
       "      <td>a</td>\n",
       "      <td>1930.0</td>\n",
       "      <td>0</td>\n",
       "    </tr>\n",
       "    <tr>\n",
       "      <th>99338</th>\n",
       "      <td>109</td>\n",
       "      <td>3</td>\n",
       "      <td>1</td>\n",
       "      <td>1</td>\n",
       "      <td>1</td>\n",
       "      <td>31</td>\n",
       "      <td>31</td>\n",
       "      <td>7</td>\n",
       "      <td>2013</td>\n",
       "      <td>a</td>\n",
       "      <td>c</td>\n",
       "      <td>3300.0</td>\n",
       "      <td>0</td>\n",
       "    </tr>\n",
       "  </tbody>\n",
       "</table>\n",
       "</div>"
      ],
      "text/plain": [
       "        Store  DayOfWeek  Open  Promo  SchoolHoliday  Day  WeekOfYear  Month  \\\n",
       "58170      64          6     1      0              0    5          40     10   \n",
       "127554    141          4     1      0              1   30          44     10   \n",
       "197942    219          4     1      1              0   20          12      3   \n",
       "97724     107          1     1      0              0    6          19      5   \n",
       "99338     109          3     1      1              1   31          31      7   \n",
       "\n",
       "        Year StoreType Assortment  CompetitionDistance  Promo2  \n",
       "58170   2013         d          c              22560.0       1  \n",
       "127554  2014         c          c               1540.0       1  \n",
       "197942  2014         a          a               1640.0       0  \n",
       "97724   2013         a          a               1930.0       0  \n",
       "99338   2013         a          c               3300.0       0  "
      ]
     },
     "execution_count": 33,
     "metadata": {},
     "output_type": "execute_result"
    }
   ],
   "source": [
    "# ### columns to use\n",
    "# columns = ['DayOfWeek', 'Date', 'Open', 'Promo', 'StateHoliday',\n",
    "#        'SchoolHoliday', 'Year', 'Month', 'Day', 'WeekOfYear']\n",
    "\n",
    "\n",
    "## Lable Date and StateHoiday Train\n",
    "columns = ['Sales','Store', 'DayOfWeek', 'Open', 'Promo',  'SchoolHoliday', 'Day', 'WeekOfYear','Month', 'Year', 'StoreType',\n",
    "              'Assortment','CompetitionDistance', 'Promo2']\n",
    "\n",
    "feature_columns = ['Store', 'DayOfWeek', 'Open', 'Promo',  'SchoolHoliday', 'Day', 'WeekOfYear','Month', 'Year', 'StoreType',\n",
    "              'Assortment','CompetitionDistance', 'Promo2']\n",
    "\n",
    "sample_size = 1000\n",
    "sampled_df = train_store_df[columns].sample(sample_size)\n",
    "\n",
    "\n",
    "## Separet Test and train files\n",
    "train_x = sampled_df[feature_columns]\n",
    "train_y = sampled_df[['Sales']]\n",
    "train_x.head()\n"
   ]
  },
  {
   "cell_type": "code",
   "execution_count": 34,
   "id": "912c55de",
   "metadata": {},
   "outputs": [
    {
     "name": "stdout",
     "output_type": "stream",
     "text": [
      "<class 'pandas.core.frame.DataFrame'>\n",
      "Int64Index: 1000 entries, 58170 to 160972\n",
      "Data columns (total 13 columns):\n",
      " #   Column               Non-Null Count  Dtype  \n",
      "---  ------               --------------  -----  \n",
      " 0   Store                1000 non-null   int64  \n",
      " 1   DayOfWeek            1000 non-null   int64  \n",
      " 2   Open                 1000 non-null   int64  \n",
      " 3   Promo                1000 non-null   int64  \n",
      " 4   SchoolHoliday        1000 non-null   int64  \n",
      " 5   Day                  1000 non-null   int64  \n",
      " 6   WeekOfYear           1000 non-null   int64  \n",
      " 7   Month                1000 non-null   int64  \n",
      " 8   Year                 1000 non-null   int64  \n",
      " 9   StoreType            1000 non-null   int32  \n",
      " 10  Assortment           1000 non-null   int32  \n",
      " 11  CompetitionDistance  1000 non-null   float64\n",
      " 12  Promo2               1000 non-null   int64  \n",
      "dtypes: float64(1), int32(2), int64(10)\n",
      "memory usage: 101.6 KB\n"
     ]
    }
   ],
   "source": [
    "### Label encoding\n",
    "lb = LabelEncoder()\n",
    "train_x['StoreType'] = lb.fit_transform(train_x['StoreType'])\n",
    "train_x['Assortment'] = lb.fit_transform(train_x['Assortment'])\n",
    "\n",
    "train_x.info()"
   ]
  },
  {
   "cell_type": "code",
   "execution_count": null,
   "id": "1ea2a23e",
   "metadata": {},
   "outputs": [],
   "source": []
  },
  {
   "cell_type": "code",
   "execution_count": 35,
   "id": "988684e2",
   "metadata": {},
   "outputs": [],
   "source": [
    "x_scaler = MinMaxScaler()\n",
    "y_scaler = MinMaxScaler()\n",
    "\n",
    "# X = x_scaler.fit_transform(train_x)\n",
    "X = train_x\n",
    "Y = y_scaler.fit_transform(train_y)"
   ]
  },
  {
   "cell_type": "code",
   "execution_count": 36,
   "id": "87d4c6ba",
   "metadata": {},
   "outputs": [],
   "source": [
    "X_train, X_test, y_train, y_test = train_test_split(X, Y, test_size=0.2)\n"
   ]
  },
  {
   "cell_type": "code",
   "execution_count": 37,
   "id": "6bb61260",
   "metadata": {},
   "outputs": [
    {
     "data": {
      "text/plain": [
       "RandomForestRegressor(max_depth=25, random_state=0)"
      ]
     },
     "execution_count": 37,
     "metadata": {},
     "output_type": "execute_result"
    }
   ],
   "source": [
    "rf_reg = RandomForestRegressor(n_estimators = 100, max_depth=25, random_state=0)\n",
    "rf_reg.fit(X_train, y_train)"
   ]
  },
  {
   "cell_type": "code",
   "execution_count": 38,
   "id": "dc750aeb",
   "metadata": {},
   "outputs": [
    {
     "name": "stdout",
     "output_type": "stream",
     "text": [
      "Prediction Score of the Model is 74.51%\n"
     ]
    }
   ],
   "source": [
    "score = rf_reg.score(X_test, y_test)\n",
    "print(f\"Prediction Score of the Model is {round(score * 100, 2)}%\")"
   ]
  },
  {
   "cell_type": "code",
   "execution_count": 39,
   "id": "a9a34dd8",
   "metadata": {},
   "outputs": [],
   "source": [
    "def train_model(X, Y, model_type='LinearRegression'):\n",
    "    model = LinearRegression()\n",
    "    \n",
    "    if(model_type == 'RandomForest'):\n",
    "        model = RandomForestRegressor(n_estimators = 100, max_depth=5, random_state=0)\n",
    "    \n",
    "        \n",
    "    kf = KFold(n_splits=5)\n",
    "    for train_index, test_index in kf.split(X):\n",
    "        with mlflow.start_run(run_name=model_type, nested = True):\n",
    "            X_train, X_test = X[train_index], X[test_index]\n",
    "            y_train, y_test = Y[train_index], Y[test_index]\n",
    "\n",
    "            model.fit(X_train, y_train)\n",
    "            score = model.score(X_test, y_test)\n",
    "            print(f\"Prediction Score of the {model_type} is {round(score * 100, 2)}%\")\n",
    "            \n",
    "            if(model_type == 'LinearRegression'):\n",
    "                mlflow.log_param('LR-Score', score)\n",
    "                \n",
    "            if(model_type == 'RandomForest'):\n",
    "                mlflow.log_param('RF-Score', score)\n",
    "                \n",
    "            mlflow.sklearn.log_model(model, model_type +' Model')\n",
    "            mlflow.end_run()\n",
    "            \n",
    "    print()\n",
    "\n",
    "## Running this code will create multiple mflow models \n",
    "## Create a branch before running this file\n",
    "\n",
    "# train_model(X, Y, \"RandomForest\")\n",
    "# train_model(X, Y)"
   ]
  },
  {
   "cell_type": "code",
   "execution_count": null,
   "id": "26161012",
   "metadata": {},
   "outputs": [],
   "source": []
  },
  {
   "cell_type": "markdown",
   "id": "2b034d64",
   "metadata": {},
   "source": [
    "### Building models with sklearn pipelines"
   ]
  },
  {
   "cell_type": "code",
   "execution_count": null,
   "id": "e935a5e0",
   "metadata": {},
   "outputs": [],
   "source": []
  },
  {
   "cell_type": "code",
   "execution_count": 40,
   "id": "18d92c13",
   "metadata": {},
   "outputs": [],
   "source": [
    "## Prepare the training and test features\n",
    "x = train_x\n",
    "y = train_y\n",
    "\n",
    "X_train, X_test, y_train, y_test = train_test_split(x, y,test_size=0.2)"
   ]
  },
  {
   "cell_type": "code",
   "execution_count": 41,
   "id": "038df859",
   "metadata": {},
   "outputs": [],
   "source": [
    "### Pipe Lines ###\n",
    "\n",
    "rfr = Pipeline(steps=[\n",
    "    ('scaler1', MinMaxScaler()),\n",
    "    ('rfr_regretion', RandomForestRegressor(n_estimators = 100, max_depth=5, random_state=0))\n",
    "])\n",
    "\n",
    "lr = Pipeline(steps=[\n",
    "    ('scaler2', MinMaxScaler()),\n",
    "    ('lr_regretion', LinearRegression())\n",
    "])\n",
    "\n",
    "dt = Pipeline(steps=[\n",
    "    ('scaler3', MinMaxScaler()),\n",
    "    ('dt_regretion', DecisionTreeRegressor(random_state = 0)  )\n",
    "])\n"
   ]
  },
  {
   "cell_type": "code",
   "execution_count": 42,
   "id": "19a865a4",
   "metadata": {},
   "outputs": [
    {
     "data": {
      "text/plain": [
       "Pipeline(steps=[('scaler3', MinMaxScaler()),\n",
       "                ('dt_regretion', DecisionTreeRegressor(random_state=0))])"
      ]
     },
     "execution_count": 42,
     "metadata": {},
     "output_type": "execute_result"
    }
   ],
   "source": [
    "rfr.fit(X_train, y_train)\n",
    "lr.fit(X_train, y_train)\n",
    "dt.fit(X_train, y_train)"
   ]
  },
  {
   "cell_type": "code",
   "execution_count": 43,
   "id": "a26ce4e2",
   "metadata": {},
   "outputs": [
    {
     "name": "stdout",
     "output_type": "stream",
     "text": [
      "Prediction Score of the RandomForestRegretion is 66.19%\n",
      "Prediction Score of the LinearRegretion is 67.18%\n",
      "Prediction Score of the DecisionTree is 30.4%\n"
     ]
    }
   ],
   "source": [
    "rfr_score = rfr.score(X_test, y_test)\n",
    "lr_score = lr.score(X_test, y_test)\n",
    "dt_score = dt.score(X_test, y_test)\n",
    "\n",
    "print(f\"Prediction Score of the RandomForestRegretion is {round(rfr_score * 100, 2)}%\")\n",
    "print(f\"Prediction Score of the LinearRegretion is {round(lr_score * 100, 2)}%\")\n",
    "print(f\"Prediction Score of the DecisionTree is {round(dt_score * 100, 2)}%\")\n",
    "\n",
    "# print(rfr_score)"
   ]
  },
  {
   "cell_type": "code",
   "execution_count": null,
   "id": "d81ee4b3",
   "metadata": {},
   "outputs": [],
   "source": []
  },
  {
   "cell_type": "code",
   "execution_count": null,
   "id": "83752536",
   "metadata": {},
   "outputs": [],
   "source": []
  },
  {
   "cell_type": "markdown",
   "id": "7f3c721f",
   "metadata": {},
   "source": [
    "### Choose a loss function"
   ]
  },
  {
   "cell_type": "code",
   "execution_count": 44,
   "id": "10810bb4",
   "metadata": {},
   "outputs": [
    {
     "name": "stdout",
     "output_type": "stream",
     "text": [
      "RandomForest Mean Square Loss : 1977.4413080875038\n",
      "Linear Mean Square Loss : 1948.275848942857\n",
      "DecisionTree Mean Square Loss : 2836.958951060096%\n"
     ]
    }
   ],
   "source": [
    "rfr_prediction = rfr.predict(X_test)\n",
    "lr_prediction = lr.predict(X_test)\n",
    "dt_prediction = dt.predict(X_test)\n",
    "\n",
    "rfr_rmse, rft_mae, _ = util.eval_metrics(y_test, rfr_prediction)\n",
    "lr_rmse, lr_mae, _ = util.eval_metrics(y_test, lr_prediction)\n",
    "dt_rmse, dt_mae, _ = util.eval_metrics(y_test, dt_prediction)\n",
    "\n",
    "\n",
    "# print(f\"Mean Absolute Loss : {round(mae * 100, 2)}%\")\n",
    "print(f\"RandomForest Mean Square Loss : {rfr_rmse}\")\n",
    "print(f\"Linear Mean Square Loss : {lr_rmse}\")\n",
    "print(f\"DecisionTree Mean Square Loss : {dt_rmse }%\")"
   ]
  },
  {
   "cell_type": "markdown",
   "id": "bf52437f",
   "metadata": {},
   "source": [
    "### Post Prediction analysis"
   ]
  },
  {
   "cell_type": "code",
   "execution_count": 45,
   "id": "916cef98",
   "metadata": {},
   "outputs": [
    {
     "data": {
      "image/png": "[encoded data removed]",
      "text/plain": [
       "<Figure size 864x432 with 1 Axes>"
      ]
     },
     "metadata": {
      "needs_background": "light"
     },
     "output_type": "display_data"
    }
   ],
   "source": [
    "\n",
    "important_features = rfr[1].feature_importances_\n",
    "plot.bar(feature_columns, important_features, 'RandomForestRegretion Feature Importance')"
   ]
  },
  {
   "cell_type": "code",
   "execution_count": 46,
   "id": "9f4fe40a",
   "metadata": {},
   "outputs": [
    {
     "data": {
      "image/png": "[encoded data removed]",
      "text/plain": [
       "<Figure size 864x432 with 1 Axes>"
      ]
     },
     "metadata": {
      "needs_background": "light"
     },
     "output_type": "display_data"
    }
   ],
   "source": [
    "important_features = lr[1].coef_[0]\n",
    "from matplotlib import pyplot as plt\n",
    "plot.bar(feature_columns, list(important_features), \"LinearRegretion Feature Importance\")"
   ]
  },
  {
   "cell_type": "code",
   "execution_count": 47,
   "id": "c9899791",
   "metadata": {},
   "outputs": [
    {
     "data": {
      "image/png": "[encoded data removed]",
      "text/plain": [
       "<Figure size 864x432 with 1 Axes>"
      ]
     },
     "metadata": {
      "needs_background": "light"
     },
     "output_type": "display_data"
    }
   ],
   "source": [
    "important_features = dt[1].feature_importances_\n",
    "plot.bar(feature_columns, important_features)"
   ]
  },
  {
   "cell_type": "markdown",
   "id": "fc2226ab",
   "metadata": {},
   "source": [
    "### Serialize models"
   ]
  },
  {
   "cell_type": "code",
   "execution_count": 48,
   "id": "cf4d2913",
   "metadata": {},
   "outputs": [
    {
     "name": "stdout",
     "output_type": "stream",
     "text": [
      "../models/reg-2022-05-28-20-08-39.pkl\n"
     ]
    }
   ],
   "source": [
    "## use picke to dump mode\n",
    "## decomment picke to save the model\n",
    "from time import gmtime, strftime\n",
    "time = strftime(\"%Y-%m-%d-%H-%M-%S\", gmtime())\n",
    "reg_model_file_name = f'../models/reg-{time}.pkl'\n",
    "lr_model_file_name = f'../models/lt-{time}.pkl'\n",
    "dt_model_file_name = f'../models/dt-{time}.pkl'\n",
    "\n",
    "files = [reg_model_file_name, lr_model_file_name, dt_model_file_name]\n",
    "models = [rfr, lr, dt]\n",
    "\n",
    "print(reg_model_file_name)\n",
    "\n",
    "\n",
    "for i in range(len(files)):\n",
    "    pickle.dump(models[i], open(files[i], 'wb'))"
   ]
  },
  {
   "cell_type": "code",
   "execution_count": 49,
   "id": "d0758959",
   "metadata": {},
   "outputs": [],
   "source": [
    "### Add the mlflow here\n"
   ]
  },
  {
   "cell_type": "code",
   "execution_count": 51,
   "id": "f3a9591c",
   "metadata": {},
   "outputs": [],
   "source": [
    "dt_file = '../models/dt-2022-05-28-07-51-21.pkl'\n",
    "lr_file = '../models/lt-2022-05-28-07-54-28.pkl'\n",
    "rg_file = '../models/reg-2022-05-28-07-43-59.pkl'\n",
    "dt_model = pickle.load(open(dt_file, 'rb'))\n",
    "lr_model = pickle.load(open(lr_file, 'rb'))\n",
    "rg_model = pickle.load(open(rg_file, 'rb'))"
   ]
  },
  {
   "cell_type": "code",
   "execution_count": 55,
   "id": "da3c462c",
   "metadata": {},
   "outputs": [
    {
     "data": {
      "text/plain": [
       "0.5313153392757228"
      ]
     },
     "execution_count": 55,
     "metadata": {},
     "output_type": "execute_result"
    }
   ],
   "source": [
    "dt_score = dt_model.score(X_test, y_test)\n",
    "dt_score"
   ]
  },
  {
   "cell_type": "code",
   "execution_count": 59,
   "id": "d6c432c1",
   "metadata": {},
   "outputs": [
    {
     "data": {
      "text/plain": [
       "0.6739103066218204"
      ]
     },
     "execution_count": 59,
     "metadata": {},
     "output_type": "execute_result"
    }
   ],
   "source": [
    "lr_score = lr_model.score(X_test, y_test)\n",
    "lr_score"
   ]
  },
  {
   "cell_type": "code",
   "execution_count": 60,
   "id": "c4307d21",
   "metadata": {},
   "outputs": [
    {
     "data": {
      "text/plain": [
       "0.6755699213069943"
      ]
     },
     "execution_count": 60,
     "metadata": {},
     "output_type": "execute_result"
    }
   ],
   "source": [
    "rg_score = rg_model.score(X_test, y_test)\n",
    "rg_score"
   ]
  },
  {
   "cell_type": "code",
   "execution_count": null,
   "id": "03c7cc7b",
   "metadata": {},
   "outputs": [],
   "source": []
  }
 ],
 "metadata": {
  "kernelspec": {
   "display_name": "Python 3 (ipykernel)",
   "language": "python",
   "name": "python3"
  },
  "language_info": {
   "codemirror_mode": {
    "name": "ipython",
    "version": 3
   },
   "file_extension": ".py",
   "mimetype": "text/x-python",
   "name": "python",
   "nbconvert_exporter": "python",
   "pygments_lexer": "ipython3",
   "version": "3.8.13"
  }
 },
 "nbformat": 4,
 "nbformat_minor": 5
}
