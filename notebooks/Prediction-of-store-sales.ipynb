{
 "cells": [
  {
   "cell_type": "code",
<<<<<<< HEAD
   "execution_count": 39,
   "id": "94550b41",
   "metadata": {},
   "outputs": [
    {
     "ename": "ModuleNotFoundError",
     "evalue": "No module named 'databricks_cli'",
     "output_type": "error",
     "traceback": [
      "\u001b[1;31m---------------------------------------------------------------------------\u001b[0m",
      "\u001b[1;31mModuleNotFoundError\u001b[0m                       Traceback (most recent call last)",
      "Input \u001b[1;32mIn [39]\u001b[0m, in \u001b[0;36m<cell line: 19>\u001b[1;34m()\u001b[0m\n\u001b[0;32m     17\u001b[0m \u001b[38;5;28;01mfrom\u001b[39;00m \u001b[38;5;21;01msklearn\u001b[39;00m\u001b[38;5;21;01m.\u001b[39;00m\u001b[38;5;21;01mmodel_selection\u001b[39;00m \u001b[38;5;28;01mimport\u001b[39;00m train_test_split\n\u001b[0;32m     18\u001b[0m \u001b[38;5;28;01mfrom\u001b[39;00m \u001b[38;5;21;01msklearn\u001b[39;00m\u001b[38;5;21;01m.\u001b[39;00m\u001b[38;5;21;01mpipeline\u001b[39;00m \u001b[38;5;28;01mimport\u001b[39;00m Pipeline\n\u001b[1;32m---> 19\u001b[0m \u001b[38;5;28;01mimport\u001b[39;00m \u001b[38;5;21;01mmlflow\u001b[39;00m\n\u001b[0;32m     20\u001b[0m \u001b[38;5;28;01mfrom\u001b[39;00m \u001b[38;5;21;01msklearn\u001b[39;00m\u001b[38;5;21;01m.\u001b[39;00m\u001b[38;5;21;01mmodel_selection\u001b[39;00m \u001b[38;5;28;01mimport\u001b[39;00m KFold\n\u001b[0;32m     21\u001b[0m \u001b[38;5;28;01mfrom\u001b[39;00m \u001b[38;5;21;01msklearn\u001b[39;00m\u001b[38;5;21;01m.\u001b[39;00m\u001b[38;5;21;01mmetrics\u001b[39;00m \u001b[38;5;28;01mimport\u001b[39;00m mean_squared_error, mean_absolute_error\n",
      "File \u001b[1;32m~\\anaconda3\\lib\\site-packages\\mlflow\\__init__.py:32\u001b[0m, in \u001b[0;36m<module>\u001b[1;34m\u001b[0m\n\u001b[0;32m     30\u001b[0m \u001b[38;5;28;01mfrom\u001b[39;00m \u001b[38;5;21;01mmlflow\u001b[39;00m\u001b[38;5;21;01m.\u001b[39;00m\u001b[38;5;21;01mversion\u001b[39;00m \u001b[38;5;28;01mimport\u001b[39;00m VERSION \u001b[38;5;28;01mas\u001b[39;00m __version__  \u001b[38;5;66;03m# pylint: disable=unused-import\u001b[39;00m\n\u001b[0;32m     31\u001b[0m \u001b[38;5;28;01mfrom\u001b[39;00m \u001b[38;5;21;01mmlflow\u001b[39;00m\u001b[38;5;21;01m.\u001b[39;00m\u001b[38;5;21;01mutils\u001b[39;00m\u001b[38;5;21;01m.\u001b[39;00m\u001b[38;5;21;01mlogging_utils\u001b[39;00m \u001b[38;5;28;01mimport\u001b[39;00m _configure_mlflow_loggers\n\u001b[1;32m---> 32\u001b[0m \u001b[38;5;28;01mimport\u001b[39;00m \u001b[38;5;21;01mmlflow\u001b[39;00m\u001b[38;5;21;01m.\u001b[39;00m\u001b[38;5;21;01mtracking\u001b[39;00m\u001b[38;5;21;01m.\u001b[39;00m\u001b[38;5;21;01m_model_registry\u001b[39;00m\u001b[38;5;21;01m.\u001b[39;00m\u001b[38;5;21;01mfluent\u001b[39;00m\n\u001b[0;32m     33\u001b[0m \u001b[38;5;28;01mimport\u001b[39;00m \u001b[38;5;21;01mmlflow\u001b[39;00m\u001b[38;5;21;01m.\u001b[39;00m\u001b[38;5;21;01mtracking\u001b[39;00m\u001b[38;5;21;01m.\u001b[39;00m\u001b[38;5;21;01mfluent\u001b[39;00m\n\u001b[0;32m     35\u001b[0m \u001b[38;5;66;03m# Filter annoying Cython warnings that serve no good purpose, and so before\u001b[39;00m\n\u001b[0;32m     36\u001b[0m \u001b[38;5;66;03m# importing other modules.\u001b[39;00m\n\u001b[0;32m     37\u001b[0m \u001b[38;5;66;03m# See: https://github.com/numpy/numpy/pull/432/commits/170ed4e33d6196d7\u001b[39;00m\n",
      "File \u001b[1;32m~\\anaconda3\\lib\\site-packages\\mlflow\\tracking\\_model_registry\\fluent.py:5\u001b[0m, in \u001b[0;36m<module>\u001b[1;34m\u001b[0m\n\u001b[0;32m      3\u001b[0m \u001b[38;5;28;01mfrom\u001b[39;00m \u001b[38;5;21;01mmlflow\u001b[39;00m\u001b[38;5;21;01m.\u001b[39;00m\u001b[38;5;21;01mprotos\u001b[39;00m\u001b[38;5;21;01m.\u001b[39;00m\u001b[38;5;21;01mdatabricks_pb2\u001b[39;00m \u001b[38;5;28;01mimport\u001b[39;00m RESOURCE_ALREADY_EXISTS, ErrorCode\n\u001b[0;32m      4\u001b[0m \u001b[38;5;28;01mfrom\u001b[39;00m \u001b[38;5;21;01mmlflow\u001b[39;00m\u001b[38;5;21;01m.\u001b[39;00m\u001b[38;5;21;01mstore\u001b[39;00m\u001b[38;5;21;01m.\u001b[39;00m\u001b[38;5;21;01martifact\u001b[39;00m\u001b[38;5;21;01m.\u001b[39;00m\u001b[38;5;21;01mruns_artifact_repo\u001b[39;00m \u001b[38;5;28;01mimport\u001b[39;00m RunsArtifactRepository\n\u001b[1;32m----> 5\u001b[0m \u001b[38;5;28;01mfrom\u001b[39;00m \u001b[38;5;21;01mmlflow\u001b[39;00m\u001b[38;5;21;01m.\u001b[39;00m\u001b[38;5;21;01mtracking\u001b[39;00m \u001b[38;5;28;01mimport\u001b[39;00m MlflowClient\n\u001b[0;32m      6\u001b[0m \u001b[38;5;28;01mfrom\u001b[39;00m \u001b[38;5;21;01mmlflow\u001b[39;00m\u001b[38;5;21;01m.\u001b[39;00m\u001b[38;5;21;01mutils\u001b[39;00m\u001b[38;5;21;01m.\u001b[39;00m\u001b[38;5;21;01mlogging_utils\u001b[39;00m \u001b[38;5;28;01mimport\u001b[39;00m eprint\n\u001b[0;32m      7\u001b[0m \u001b[38;5;28;01mfrom\u001b[39;00m \u001b[38;5;21;01mmlflow\u001b[39;00m\u001b[38;5;21;01m.\u001b[39;00m\u001b[38;5;21;01mtracking\u001b[39;00m\u001b[38;5;21;01m.\u001b[39;00m\u001b[38;5;21;01m_model_registry\u001b[39;00m \u001b[38;5;28;01mimport\u001b[39;00m DEFAULT_AWAIT_MAX_SLEEP_SECONDS\n",
      "File \u001b[1;32m~\\anaconda3\\lib\\site-packages\\mlflow\\tracking\\__init__.py:8\u001b[0m, in \u001b[0;36m<module>\u001b[1;34m\u001b[0m\n\u001b[0;32m      1\u001b[0m \u001b[38;5;124;03m\"\"\"\u001b[39;00m\n\u001b[0;32m      2\u001b[0m \u001b[38;5;124;03mThe ``mlflow.tracking`` module provides a Python CRUD interface to MLflow experiments\u001b[39;00m\n\u001b[0;32m      3\u001b[0m \u001b[38;5;124;03mand runs. This is a lower level API that directly translates to MLflow\u001b[39;00m\n\u001b[0;32m      4\u001b[0m \u001b[38;5;124;03m`REST API <../rest-api.html>`_ calls.\u001b[39;00m\n\u001b[0;32m      5\u001b[0m \u001b[38;5;124;03mFor a higher level API for managing an \"active run\", use the :py:mod:`mlflow` module.\u001b[39;00m\n\u001b[0;32m      6\u001b[0m \u001b[38;5;124;03m\"\"\"\u001b[39;00m\n\u001b[1;32m----> 8\u001b[0m \u001b[38;5;28;01mfrom\u001b[39;00m \u001b[38;5;21;01mmlflow\u001b[39;00m\u001b[38;5;21;01m.\u001b[39;00m\u001b[38;5;21;01mtracking\u001b[39;00m\u001b[38;5;21;01m.\u001b[39;00m\u001b[38;5;21;01mclient\u001b[39;00m \u001b[38;5;28;01mimport\u001b[39;00m MlflowClient\n\u001b[0;32m      9\u001b[0m \u001b[38;5;28;01mfrom\u001b[39;00m \u001b[38;5;21;01mmlflow\u001b[39;00m\u001b[38;5;21;01m.\u001b[39;00m\u001b[38;5;21;01mtracking\u001b[39;00m\u001b[38;5;21;01m.\u001b[39;00m\u001b[38;5;21;01m_tracking_service\u001b[39;00m\u001b[38;5;21;01m.\u001b[39;00m\u001b[38;5;21;01mutils\u001b[39;00m \u001b[38;5;28;01mimport\u001b[39;00m (\n\u001b[0;32m     10\u001b[0m     set_tracking_uri,\n\u001b[0;32m     11\u001b[0m     get_tracking_uri,\n\u001b[1;32m   (...)\u001b[0m\n\u001b[0;32m     14\u001b[0m     _TRACKING_URI_ENV_VAR,\n\u001b[0;32m     15\u001b[0m )\n\u001b[0;32m     16\u001b[0m \u001b[38;5;28;01mfrom\u001b[39;00m \u001b[38;5;21;01mmlflow\u001b[39;00m\u001b[38;5;21;01m.\u001b[39;00m\u001b[38;5;21;01mtracking\u001b[39;00m\u001b[38;5;21;01m.\u001b[39;00m\u001b[38;5;21;01m_model_registry\u001b[39;00m\u001b[38;5;21;01m.\u001b[39;00m\u001b[38;5;21;01mutils\u001b[39;00m \u001b[38;5;28;01mimport\u001b[39;00m (\n\u001b[0;32m     17\u001b[0m     set_registry_uri,\n\u001b[0;32m     18\u001b[0m     get_registry_uri,\n\u001b[0;32m     19\u001b[0m )\n",
      "File \u001b[1;32m~\\anaconda3\\lib\\site-packages\\mlflow\\tracking\\client.py:24\u001b[0m, in \u001b[0;36m<module>\u001b[1;34m\u001b[0m\n\u001b[0;32m     22\u001b[0m \u001b[38;5;28;01mfrom\u001b[39;00m \u001b[38;5;21;01mmlflow\u001b[39;00m\u001b[38;5;21;01m.\u001b[39;00m\u001b[38;5;21;01mstore\u001b[39;00m\u001b[38;5;21;01m.\u001b[39;00m\u001b[38;5;21;01mmodel_registry\u001b[39;00m \u001b[38;5;28;01mimport\u001b[39;00m SEARCH_REGISTERED_MODEL_MAX_RESULTS_DEFAULT\n\u001b[0;32m     23\u001b[0m \u001b[38;5;28;01mfrom\u001b[39;00m \u001b[38;5;21;01mmlflow\u001b[39;00m\u001b[38;5;21;01m.\u001b[39;00m\u001b[38;5;21;01mstore\u001b[39;00m\u001b[38;5;21;01m.\u001b[39;00m\u001b[38;5;21;01mtracking\u001b[39;00m \u001b[38;5;28;01mimport\u001b[39;00m SEARCH_MAX_RESULTS_DEFAULT\n\u001b[1;32m---> 24\u001b[0m \u001b[38;5;28;01mfrom\u001b[39;00m \u001b[38;5;21;01mmlflow\u001b[39;00m\u001b[38;5;21;01m.\u001b[39;00m\u001b[38;5;21;01mtracking\u001b[39;00m\u001b[38;5;21;01m.\u001b[39;00m\u001b[38;5;21;01m_model_registry\u001b[39;00m\u001b[38;5;21;01m.\u001b[39;00m\u001b[38;5;21;01mclient\u001b[39;00m \u001b[38;5;28;01mimport\u001b[39;00m ModelRegistryClient\n\u001b[0;32m     25\u001b[0m \u001b[38;5;28;01mfrom\u001b[39;00m \u001b[38;5;21;01mmlflow\u001b[39;00m\u001b[38;5;21;01m.\u001b[39;00m\u001b[38;5;21;01mtracking\u001b[39;00m\u001b[38;5;21;01m.\u001b[39;00m\u001b[38;5;21;01m_model_registry\u001b[39;00m \u001b[38;5;28;01mimport\u001b[39;00m utils \u001b[38;5;28;01mas\u001b[39;00m registry_utils\n\u001b[0;32m     26\u001b[0m \u001b[38;5;28;01mfrom\u001b[39;00m \u001b[38;5;21;01mmlflow\u001b[39;00m\u001b[38;5;21;01m.\u001b[39;00m\u001b[38;5;21;01mtracking\u001b[39;00m\u001b[38;5;21;01m.\u001b[39;00m\u001b[38;5;21;01m_model_registry\u001b[39;00m \u001b[38;5;28;01mimport\u001b[39;00m DEFAULT_AWAIT_MAX_SLEEP_SECONDS\n",
      "File \u001b[1;32m~\\anaconda3\\lib\\site-packages\\mlflow\\tracking\\_model_registry\\client.py:15\u001b[0m, in \u001b[0;36m<module>\u001b[1;34m\u001b[0m\n\u001b[0;32m     13\u001b[0m \u001b[38;5;28;01mfrom\u001b[39;00m \u001b[38;5;21;01mmlflow\u001b[39;00m\u001b[38;5;21;01m.\u001b[39;00m\u001b[38;5;21;01mentities\u001b[39;00m\u001b[38;5;21;01m.\u001b[39;00m\u001b[38;5;21;01mmodel_registry\u001b[39;00m \u001b[38;5;28;01mimport\u001b[39;00m RegisteredModelTag, ModelVersionTag\n\u001b[0;32m     14\u001b[0m \u001b[38;5;28;01mfrom\u001b[39;00m \u001b[38;5;21;01mmlflow\u001b[39;00m\u001b[38;5;21;01m.\u001b[39;00m\u001b[38;5;21;01mentities\u001b[39;00m\u001b[38;5;21;01m.\u001b[39;00m\u001b[38;5;21;01mmodel_registry\u001b[39;00m\u001b[38;5;21;01m.\u001b[39;00m\u001b[38;5;21;01mmodel_version_status\u001b[39;00m \u001b[38;5;28;01mimport\u001b[39;00m ModelVersionStatus\n\u001b[1;32m---> 15\u001b[0m \u001b[38;5;28;01mfrom\u001b[39;00m \u001b[38;5;21;01mmlflow\u001b[39;00m\u001b[38;5;21;01m.\u001b[39;00m\u001b[38;5;21;01mtracking\u001b[39;00m\u001b[38;5;21;01m.\u001b[39;00m\u001b[38;5;21;01m_model_registry\u001b[39;00m \u001b[38;5;28;01mimport\u001b[39;00m utils, DEFAULT_AWAIT_MAX_SLEEP_SECONDS\n\u001b[0;32m     17\u001b[0m _logger \u001b[38;5;241m=\u001b[39m logging\u001b[38;5;241m.\u001b[39mgetLogger(\u001b[38;5;18m__name__\u001b[39m)\n\u001b[0;32m     19\u001b[0m AWAIT_MODEL_VERSION_CREATE_SLEEP_DURATION_SECONDS \u001b[38;5;241m=\u001b[39m \u001b[38;5;241m3\u001b[39m\n",
      "File \u001b[1;32m~\\anaconda3\\lib\\site-packages\\mlflow\\tracking\\_model_registry\\utils.py:7\u001b[0m, in \u001b[0;36m<module>\u001b[1;34m\u001b[0m\n\u001b[0;32m      5\u001b[0m \u001b[38;5;28;01mfrom\u001b[39;00m \u001b[38;5;21;01mmlflow\u001b[39;00m\u001b[38;5;21;01m.\u001b[39;00m\u001b[38;5;21;01mstore\u001b[39;00m\u001b[38;5;21;01m.\u001b[39;00m\u001b[38;5;21;01mmodel_registry\u001b[39;00m\u001b[38;5;21;01m.\u001b[39;00m\u001b[38;5;21;01mrest_store\u001b[39;00m \u001b[38;5;28;01mimport\u001b[39;00m RestStore\n\u001b[0;32m      6\u001b[0m \u001b[38;5;28;01mfrom\u001b[39;00m \u001b[38;5;21;01mmlflow\u001b[39;00m\u001b[38;5;21;01m.\u001b[39;00m\u001b[38;5;21;01mtracking\u001b[39;00m\u001b[38;5;21;01m.\u001b[39;00m\u001b[38;5;21;01m_model_registry\u001b[39;00m\u001b[38;5;21;01m.\u001b[39;00m\u001b[38;5;21;01mregistry\u001b[39;00m \u001b[38;5;28;01mimport\u001b[39;00m ModelRegistryStoreRegistry\n\u001b[1;32m----> 7\u001b[0m \u001b[38;5;28;01mfrom\u001b[39;00m \u001b[38;5;21;01mmlflow\u001b[39;00m\u001b[38;5;21;01m.\u001b[39;00m\u001b[38;5;21;01mtracking\u001b[39;00m\u001b[38;5;21;01m.\u001b[39;00m\u001b[38;5;21;01m_tracking_service\u001b[39;00m\u001b[38;5;21;01m.\u001b[39;00m\u001b[38;5;21;01mutils\u001b[39;00m \u001b[38;5;28;01mimport\u001b[39;00m (\n\u001b[0;32m      8\u001b[0m     _TRACKING_USERNAME_ENV_VAR,\n\u001b[0;32m      9\u001b[0m     _TRACKING_PASSWORD_ENV_VAR,\n\u001b[0;32m     10\u001b[0m     _TRACKING_TOKEN_ENV_VAR,\n\u001b[0;32m     11\u001b[0m     _TRACKING_INSECURE_TLS_ENV_VAR,\n\u001b[0;32m     12\u001b[0m     _resolve_tracking_uri,\n\u001b[0;32m     13\u001b[0m     get_tracking_uri,\n\u001b[0;32m     14\u001b[0m )\n\u001b[0;32m     15\u001b[0m \u001b[38;5;28;01mfrom\u001b[39;00m \u001b[38;5;21;01mmlflow\u001b[39;00m\u001b[38;5;21;01m.\u001b[39;00m\u001b[38;5;21;01mutils\u001b[39;00m \u001b[38;5;28;01mimport\u001b[39;00m rest_utils\n\u001b[0;32m     16\u001b[0m \u001b[38;5;28;01mfrom\u001b[39;00m \u001b[38;5;21;01mmlflow\u001b[39;00m\u001b[38;5;21;01m.\u001b[39;00m\u001b[38;5;21;01mutils\u001b[39;00m\u001b[38;5;21;01m.\u001b[39;00m\u001b[38;5;21;01mdatabricks_utils\u001b[39;00m \u001b[38;5;28;01mimport\u001b[39;00m get_databricks_host_creds\n",
      "File \u001b[1;32m~\\anaconda3\\lib\\site-packages\\mlflow\\tracking\\_tracking_service\\utils.py:12\u001b[0m, in \u001b[0;36m<module>\u001b[1;34m\u001b[0m\n\u001b[0;32m     10\u001b[0m \u001b[38;5;28;01mfrom\u001b[39;00m \u001b[38;5;21;01mmlflow\u001b[39;00m\u001b[38;5;21;01m.\u001b[39;00m\u001b[38;5;21;01mutils\u001b[39;00m \u001b[38;5;28;01mimport\u001b[39;00m env, rest_utils\n\u001b[0;32m     11\u001b[0m \u001b[38;5;28;01mfrom\u001b[39;00m \u001b[38;5;21;01mmlflow\u001b[39;00m\u001b[38;5;21;01m.\u001b[39;00m\u001b[38;5;21;01mutils\u001b[39;00m\u001b[38;5;21;01m.\u001b[39;00m\u001b[38;5;21;01mfile_utils\u001b[39;00m \u001b[38;5;28;01mimport\u001b[39;00m path_to_local_file_uri\n\u001b[1;32m---> 12\u001b[0m \u001b[38;5;28;01mfrom\u001b[39;00m \u001b[38;5;21;01mmlflow\u001b[39;00m\u001b[38;5;21;01m.\u001b[39;00m\u001b[38;5;21;01mutils\u001b[39;00m\u001b[38;5;21;01m.\u001b[39;00m\u001b[38;5;21;01mdatabricks_utils\u001b[39;00m \u001b[38;5;28;01mimport\u001b[39;00m get_databricks_host_creds\n\u001b[0;32m     14\u001b[0m _TRACKING_URI_ENV_VAR \u001b[38;5;241m=\u001b[39m \u001b[38;5;124m\"\u001b[39m\u001b[38;5;124mMLFLOW_TRACKING_URI\u001b[39m\u001b[38;5;124m\"\u001b[39m\n\u001b[0;32m     16\u001b[0m \u001b[38;5;66;03m# Extra environment variables which take precedence for setting the basic/bearer\u001b[39;00m\n\u001b[0;32m     17\u001b[0m \u001b[38;5;66;03m# auth on http requests.\u001b[39;00m\n",
      "File \u001b[1;32m~\\anaconda3\\lib\\site-packages\\mlflow\\utils\\databricks_utils.py:7\u001b[0m, in \u001b[0;36m<module>\u001b[1;34m\u001b[0m\n\u001b[0;32m      5\u001b[0m \u001b[38;5;28;01mfrom\u001b[39;00m \u001b[38;5;21;01mmlflow\u001b[39;00m\u001b[38;5;21;01m.\u001b[39;00m\u001b[38;5;21;01mexceptions\u001b[39;00m \u001b[38;5;28;01mimport\u001b[39;00m MlflowException\n\u001b[0;32m      6\u001b[0m \u001b[38;5;28;01mfrom\u001b[39;00m \u001b[38;5;21;01mmlflow\u001b[39;00m\u001b[38;5;21;01m.\u001b[39;00m\u001b[38;5;21;01mutils\u001b[39;00m\u001b[38;5;21;01m.\u001b[39;00m\u001b[38;5;21;01mrest_utils\u001b[39;00m \u001b[38;5;28;01mimport\u001b[39;00m MlflowHostCreds\n\u001b[1;32m----> 7\u001b[0m \u001b[38;5;28;01mfrom\u001b[39;00m \u001b[38;5;21;01mdatabricks_cli\u001b[39;00m\u001b[38;5;21;01m.\u001b[39;00m\u001b[38;5;21;01mconfigure\u001b[39;00m \u001b[38;5;28;01mimport\u001b[39;00m provider\n\u001b[0;32m      8\u001b[0m \u001b[38;5;28;01mfrom\u001b[39;00m \u001b[38;5;21;01mmlflow\u001b[39;00m\u001b[38;5;21;01m.\u001b[39;00m\u001b[38;5;21;01mutils\u001b[39;00m\u001b[38;5;21;01m.\u001b[39;00m\u001b[38;5;21;01m_spark_utils\u001b[39;00m \u001b[38;5;28;01mimport\u001b[39;00m _get_active_spark_session\n\u001b[0;32m      9\u001b[0m \u001b[38;5;28;01mfrom\u001b[39;00m \u001b[38;5;21;01mmlflow\u001b[39;00m\u001b[38;5;21;01m.\u001b[39;00m\u001b[38;5;21;01mutils\u001b[39;00m\u001b[38;5;21;01m.\u001b[39;00m\u001b[38;5;21;01muri\u001b[39;00m \u001b[38;5;28;01mimport\u001b[39;00m get_db_info_from_uri\n",
      "\u001b[1;31mModuleNotFoundError\u001b[0m: No module named 'databricks_cli'"
     ]
    }
   ],
=======
   "execution_count": 69,
   "id": "94550b41",
   "metadata": {},
   "outputs": [],
>>>>>>> main
   "source": [
    "import warnings\n",
    "warnings.filterwarnings(\"ignore\")\n",
    "\n",
    "import os\n",
    "import logging\n",
    "logging.basicConfig(level=os.environ.get(\"LOGLEVEL\", \"INFO\"))\n",
    "\n",
    "import pandas as pd\n",
    "\n",
    "##\n",
    "from sklearn.preprocessing import LabelEncoder\n",
    "from sklearn.preprocessing import MinMaxScaler\n",
    "from sklearn.linear_model import LinearRegression\n",
    "from sklearn.ensemble import RandomForestRegressor\n",
    "from sklearn.tree import DecisionTreeRegressor  \n",
    "\n",
    "from sklearn.model_selection import train_test_split\n",
    "from sklearn.pipeline import Pipeline\n",
    "import mlflow\n",
    "from sklearn.model_selection import KFold\n",
    "from sklearn.metrics import mean_squared_error, mean_absolute_error\n",
    "\n",
    "import pickle # Read and Save model - Serialization\n",
    "from datetime import datetime\n",
    "\n",
    "# custom functions\n",
    "import sys\n",
<<<<<<< HEAD
    "sys.path.append(\"/Users/user/Pharmaceutical_Sales_prediction\")\n",
    "from scripts import util\n",
    "from scripts import plot"
=======
    "sys.path.append(\"/Users/java/Documents/10Acadamy/week - 3/Rossmann Pharmaceuticals\")\n",
    "from myscripts import util\n",
    "from myscripts import plot"
>>>>>>> main
   ]
  },
  {
   "cell_type": "code",
<<<<<<< HEAD
   "execution_count": 32,
=======
   "execution_count": 70,
>>>>>>> main
   "id": "11221682",
   "metadata": {},
   "outputs": [],
   "source": [
    "## Read Datas\n",
    "\n",
    "train_store_file = '../data/clean_train_store.csv'"
   ]
  },
  {
   "cell_type": "code",
<<<<<<< HEAD
   "execution_count": 33,
   "id": "a79d7c44",
   "metadata": {},
   "outputs": [
    {
     "ename": "FileNotFoundError",
     "evalue": "[Errno 2] No such file or directory: '../data/clean_train_store.csv'",
     "output_type": "error",
     "traceback": [
      "\u001b[1;31m---------------------------------------------------------------------------\u001b[0m",
      "\u001b[1;31mFileNotFoundError\u001b[0m                         Traceback (most recent call last)",
      "Input \u001b[1;32mIn [33]\u001b[0m, in \u001b[0;36m<cell line: 1>\u001b[1;34m()\u001b[0m\n\u001b[1;32m----> 1\u001b[0m train_store_df \u001b[38;5;241m=\u001b[39m \u001b[43mpd\u001b[49m\u001b[38;5;241;43m.\u001b[39;49m\u001b[43mread_csv\u001b[49m\u001b[43m(\u001b[49m\u001b[43mtrain_store_file\u001b[49m\u001b[43m,\u001b[49m\u001b[43m \u001b[49m\u001b[43mparse_dates\u001b[49m\u001b[43m \u001b[49m\u001b[38;5;241;43m=\u001b[39;49m\u001b[43m \u001b[49m\u001b[38;5;28;43;01mTrue\u001b[39;49;00m\u001b[43m,\u001b[49m\u001b[43m \u001b[49m\u001b[43mlow_memory\u001b[49m\u001b[43m \u001b[49m\u001b[38;5;241;43m=\u001b[39;49m\u001b[43m \u001b[49m\u001b[38;5;28;43;01mFalse\u001b[39;49;00m\u001b[43m)\u001b[49m\n",
      "File \u001b[1;32m~\\anaconda3\\lib\\site-packages\\pandas\\util\\_decorators.py:311\u001b[0m, in \u001b[0;36mdeprecate_nonkeyword_arguments.<locals>.decorate.<locals>.wrapper\u001b[1;34m(*args, **kwargs)\u001b[0m\n\u001b[0;32m    305\u001b[0m \u001b[38;5;28;01mif\u001b[39;00m \u001b[38;5;28mlen\u001b[39m(args) \u001b[38;5;241m>\u001b[39m num_allow_args:\n\u001b[0;32m    306\u001b[0m     warnings\u001b[38;5;241m.\u001b[39mwarn(\n\u001b[0;32m    307\u001b[0m         msg\u001b[38;5;241m.\u001b[39mformat(arguments\u001b[38;5;241m=\u001b[39marguments),\n\u001b[0;32m    308\u001b[0m         \u001b[38;5;167;01mFutureWarning\u001b[39;00m,\n\u001b[0;32m    309\u001b[0m         stacklevel\u001b[38;5;241m=\u001b[39mstacklevel,\n\u001b[0;32m    310\u001b[0m     )\n\u001b[1;32m--> 311\u001b[0m \u001b[38;5;28;01mreturn\u001b[39;00m \u001b[43mfunc\u001b[49m\u001b[43m(\u001b[49m\u001b[38;5;241;43m*\u001b[39;49m\u001b[43margs\u001b[49m\u001b[43m,\u001b[49m\u001b[43m \u001b[49m\u001b[38;5;241;43m*\u001b[39;49m\u001b[38;5;241;43m*\u001b[39;49m\u001b[43mkwargs\u001b[49m\u001b[43m)\u001b[49m\n",
      "File \u001b[1;32m~\\anaconda3\\lib\\site-packages\\pandas\\io\\parsers\\readers.py:680\u001b[0m, in \u001b[0;36mread_csv\u001b[1;34m(filepath_or_buffer, sep, delimiter, header, names, index_col, usecols, squeeze, prefix, mangle_dupe_cols, dtype, engine, converters, true_values, false_values, skipinitialspace, skiprows, skipfooter, nrows, na_values, keep_default_na, na_filter, verbose, skip_blank_lines, parse_dates, infer_datetime_format, keep_date_col, date_parser, dayfirst, cache_dates, iterator, chunksize, compression, thousands, decimal, lineterminator, quotechar, quoting, doublequote, escapechar, comment, encoding, encoding_errors, dialect, error_bad_lines, warn_bad_lines, on_bad_lines, delim_whitespace, low_memory, memory_map, float_precision, storage_options)\u001b[0m\n\u001b[0;32m    665\u001b[0m kwds_defaults \u001b[38;5;241m=\u001b[39m _refine_defaults_read(\n\u001b[0;32m    666\u001b[0m     dialect,\n\u001b[0;32m    667\u001b[0m     delimiter,\n\u001b[1;32m   (...)\u001b[0m\n\u001b[0;32m    676\u001b[0m     defaults\u001b[38;5;241m=\u001b[39m{\u001b[38;5;124m\"\u001b[39m\u001b[38;5;124mdelimiter\u001b[39m\u001b[38;5;124m\"\u001b[39m: \u001b[38;5;124m\"\u001b[39m\u001b[38;5;124m,\u001b[39m\u001b[38;5;124m\"\u001b[39m},\n\u001b[0;32m    677\u001b[0m )\n\u001b[0;32m    678\u001b[0m kwds\u001b[38;5;241m.\u001b[39mupdate(kwds_defaults)\n\u001b[1;32m--> 680\u001b[0m \u001b[38;5;28;01mreturn\u001b[39;00m \u001b[43m_read\u001b[49m\u001b[43m(\u001b[49m\u001b[43mfilepath_or_buffer\u001b[49m\u001b[43m,\u001b[49m\u001b[43m \u001b[49m\u001b[43mkwds\u001b[49m\u001b[43m)\u001b[49m\n",
      "File \u001b[1;32m~\\anaconda3\\lib\\site-packages\\pandas\\io\\parsers\\readers.py:575\u001b[0m, in \u001b[0;36m_read\u001b[1;34m(filepath_or_buffer, kwds)\u001b[0m\n\u001b[0;32m    572\u001b[0m _validate_names(kwds\u001b[38;5;241m.\u001b[39mget(\u001b[38;5;124m\"\u001b[39m\u001b[38;5;124mnames\u001b[39m\u001b[38;5;124m\"\u001b[39m, \u001b[38;5;28;01mNone\u001b[39;00m))\n\u001b[0;32m    574\u001b[0m \u001b[38;5;66;03m# Create the parser.\u001b[39;00m\n\u001b[1;32m--> 575\u001b[0m parser \u001b[38;5;241m=\u001b[39m \u001b[43mTextFileReader\u001b[49m\u001b[43m(\u001b[49m\u001b[43mfilepath_or_buffer\u001b[49m\u001b[43m,\u001b[49m\u001b[43m \u001b[49m\u001b[38;5;241;43m*\u001b[39;49m\u001b[38;5;241;43m*\u001b[39;49m\u001b[43mkwds\u001b[49m\u001b[43m)\u001b[49m\n\u001b[0;32m    577\u001b[0m \u001b[38;5;28;01mif\u001b[39;00m chunksize \u001b[38;5;129;01mor\u001b[39;00m iterator:\n\u001b[0;32m    578\u001b[0m     \u001b[38;5;28;01mreturn\u001b[39;00m parser\n",
      "File \u001b[1;32m~\\anaconda3\\lib\\site-packages\\pandas\\io\\parsers\\readers.py:933\u001b[0m, in \u001b[0;36mTextFileReader.__init__\u001b[1;34m(self, f, engine, **kwds)\u001b[0m\n\u001b[0;32m    930\u001b[0m     \u001b[38;5;28mself\u001b[39m\u001b[38;5;241m.\u001b[39moptions[\u001b[38;5;124m\"\u001b[39m\u001b[38;5;124mhas_index_names\u001b[39m\u001b[38;5;124m\"\u001b[39m] \u001b[38;5;241m=\u001b[39m kwds[\u001b[38;5;124m\"\u001b[39m\u001b[38;5;124mhas_index_names\u001b[39m\u001b[38;5;124m\"\u001b[39m]\n\u001b[0;32m    932\u001b[0m \u001b[38;5;28mself\u001b[39m\u001b[38;5;241m.\u001b[39mhandles: IOHandles \u001b[38;5;241m|\u001b[39m \u001b[38;5;28;01mNone\u001b[39;00m \u001b[38;5;241m=\u001b[39m \u001b[38;5;28;01mNone\u001b[39;00m\n\u001b[1;32m--> 933\u001b[0m \u001b[38;5;28mself\u001b[39m\u001b[38;5;241m.\u001b[39m_engine \u001b[38;5;241m=\u001b[39m \u001b[38;5;28;43mself\u001b[39;49m\u001b[38;5;241;43m.\u001b[39;49m\u001b[43m_make_engine\u001b[49m\u001b[43m(\u001b[49m\u001b[43mf\u001b[49m\u001b[43m,\u001b[49m\u001b[43m \u001b[49m\u001b[38;5;28;43mself\u001b[39;49m\u001b[38;5;241;43m.\u001b[39;49m\u001b[43mengine\u001b[49m\u001b[43m)\u001b[49m\n",
      "File \u001b[1;32m~\\anaconda3\\lib\\site-packages\\pandas\\io\\parsers\\readers.py:1217\u001b[0m, in \u001b[0;36mTextFileReader._make_engine\u001b[1;34m(self, f, engine)\u001b[0m\n\u001b[0;32m   1213\u001b[0m     mode \u001b[38;5;241m=\u001b[39m \u001b[38;5;124m\"\u001b[39m\u001b[38;5;124mrb\u001b[39m\u001b[38;5;124m\"\u001b[39m\n\u001b[0;32m   1214\u001b[0m \u001b[38;5;66;03m# error: No overload variant of \"get_handle\" matches argument types\u001b[39;00m\n\u001b[0;32m   1215\u001b[0m \u001b[38;5;66;03m# \"Union[str, PathLike[str], ReadCsvBuffer[bytes], ReadCsvBuffer[str]]\"\u001b[39;00m\n\u001b[0;32m   1216\u001b[0m \u001b[38;5;66;03m# , \"str\", \"bool\", \"Any\", \"Any\", \"Any\", \"Any\", \"Any\"\u001b[39;00m\n\u001b[1;32m-> 1217\u001b[0m \u001b[38;5;28mself\u001b[39m\u001b[38;5;241m.\u001b[39mhandles \u001b[38;5;241m=\u001b[39m \u001b[43mget_handle\u001b[49m\u001b[43m(\u001b[49m\u001b[43m  \u001b[49m\u001b[38;5;66;43;03m# type: ignore[call-overload]\u001b[39;49;00m\n\u001b[0;32m   1218\u001b[0m \u001b[43m    \u001b[49m\u001b[43mf\u001b[49m\u001b[43m,\u001b[49m\n\u001b[0;32m   1219\u001b[0m \u001b[43m    \u001b[49m\u001b[43mmode\u001b[49m\u001b[43m,\u001b[49m\n\u001b[0;32m   1220\u001b[0m \u001b[43m    \u001b[49m\u001b[43mencoding\u001b[49m\u001b[38;5;241;43m=\u001b[39;49m\u001b[38;5;28;43mself\u001b[39;49m\u001b[38;5;241;43m.\u001b[39;49m\u001b[43moptions\u001b[49m\u001b[38;5;241;43m.\u001b[39;49m\u001b[43mget\u001b[49m\u001b[43m(\u001b[49m\u001b[38;5;124;43m\"\u001b[39;49m\u001b[38;5;124;43mencoding\u001b[39;49m\u001b[38;5;124;43m\"\u001b[39;49m\u001b[43m,\u001b[49m\u001b[43m \u001b[49m\u001b[38;5;28;43;01mNone\u001b[39;49;00m\u001b[43m)\u001b[49m\u001b[43m,\u001b[49m\n\u001b[0;32m   1221\u001b[0m \u001b[43m    \u001b[49m\u001b[43mcompression\u001b[49m\u001b[38;5;241;43m=\u001b[39;49m\u001b[38;5;28;43mself\u001b[39;49m\u001b[38;5;241;43m.\u001b[39;49m\u001b[43moptions\u001b[49m\u001b[38;5;241;43m.\u001b[39;49m\u001b[43mget\u001b[49m\u001b[43m(\u001b[49m\u001b[38;5;124;43m\"\u001b[39;49m\u001b[38;5;124;43mcompression\u001b[39;49m\u001b[38;5;124;43m\"\u001b[39;49m\u001b[43m,\u001b[49m\u001b[43m \u001b[49m\u001b[38;5;28;43;01mNone\u001b[39;49;00m\u001b[43m)\u001b[49m\u001b[43m,\u001b[49m\n\u001b[0;32m   1222\u001b[0m \u001b[43m    \u001b[49m\u001b[43mmemory_map\u001b[49m\u001b[38;5;241;43m=\u001b[39;49m\u001b[38;5;28;43mself\u001b[39;49m\u001b[38;5;241;43m.\u001b[39;49m\u001b[43moptions\u001b[49m\u001b[38;5;241;43m.\u001b[39;49m\u001b[43mget\u001b[49m\u001b[43m(\u001b[49m\u001b[38;5;124;43m\"\u001b[39;49m\u001b[38;5;124;43mmemory_map\u001b[39;49m\u001b[38;5;124;43m\"\u001b[39;49m\u001b[43m,\u001b[49m\u001b[43m \u001b[49m\u001b[38;5;28;43;01mFalse\u001b[39;49;00m\u001b[43m)\u001b[49m\u001b[43m,\u001b[49m\n\u001b[0;32m   1223\u001b[0m \u001b[43m    \u001b[49m\u001b[43mis_text\u001b[49m\u001b[38;5;241;43m=\u001b[39;49m\u001b[43mis_text\u001b[49m\u001b[43m,\u001b[49m\n\u001b[0;32m   1224\u001b[0m \u001b[43m    \u001b[49m\u001b[43merrors\u001b[49m\u001b[38;5;241;43m=\u001b[39;49m\u001b[38;5;28;43mself\u001b[39;49m\u001b[38;5;241;43m.\u001b[39;49m\u001b[43moptions\u001b[49m\u001b[38;5;241;43m.\u001b[39;49m\u001b[43mget\u001b[49m\u001b[43m(\u001b[49m\u001b[38;5;124;43m\"\u001b[39;49m\u001b[38;5;124;43mencoding_errors\u001b[39;49m\u001b[38;5;124;43m\"\u001b[39;49m\u001b[43m,\u001b[49m\u001b[43m \u001b[49m\u001b[38;5;124;43m\"\u001b[39;49m\u001b[38;5;124;43mstrict\u001b[39;49m\u001b[38;5;124;43m\"\u001b[39;49m\u001b[43m)\u001b[49m\u001b[43m,\u001b[49m\n\u001b[0;32m   1225\u001b[0m \u001b[43m    \u001b[49m\u001b[43mstorage_options\u001b[49m\u001b[38;5;241;43m=\u001b[39;49m\u001b[38;5;28;43mself\u001b[39;49m\u001b[38;5;241;43m.\u001b[39;49m\u001b[43moptions\u001b[49m\u001b[38;5;241;43m.\u001b[39;49m\u001b[43mget\u001b[49m\u001b[43m(\u001b[49m\u001b[38;5;124;43m\"\u001b[39;49m\u001b[38;5;124;43mstorage_options\u001b[39;49m\u001b[38;5;124;43m\"\u001b[39;49m\u001b[43m,\u001b[49m\u001b[43m \u001b[49m\u001b[38;5;28;43;01mNone\u001b[39;49;00m\u001b[43m)\u001b[49m\u001b[43m,\u001b[49m\n\u001b[0;32m   1226\u001b[0m \u001b[43m\u001b[49m\u001b[43m)\u001b[49m\n\u001b[0;32m   1227\u001b[0m \u001b[38;5;28;01massert\u001b[39;00m \u001b[38;5;28mself\u001b[39m\u001b[38;5;241m.\u001b[39mhandles \u001b[38;5;129;01mis\u001b[39;00m \u001b[38;5;129;01mnot\u001b[39;00m \u001b[38;5;28;01mNone\u001b[39;00m\n\u001b[0;32m   1228\u001b[0m f \u001b[38;5;241m=\u001b[39m \u001b[38;5;28mself\u001b[39m\u001b[38;5;241m.\u001b[39mhandles\u001b[38;5;241m.\u001b[39mhandle\n",
      "File \u001b[1;32m~\\anaconda3\\lib\\site-packages\\pandas\\io\\common.py:789\u001b[0m, in \u001b[0;36mget_handle\u001b[1;34m(path_or_buf, mode, encoding, compression, memory_map, is_text, errors, storage_options)\u001b[0m\n\u001b[0;32m    784\u001b[0m \u001b[38;5;28;01melif\u001b[39;00m \u001b[38;5;28misinstance\u001b[39m(handle, \u001b[38;5;28mstr\u001b[39m):\n\u001b[0;32m    785\u001b[0m     \u001b[38;5;66;03m# Check whether the filename is to be opened in binary mode.\u001b[39;00m\n\u001b[0;32m    786\u001b[0m     \u001b[38;5;66;03m# Binary mode does not support 'encoding' and 'newline'.\u001b[39;00m\n\u001b[0;32m    787\u001b[0m     \u001b[38;5;28;01mif\u001b[39;00m ioargs\u001b[38;5;241m.\u001b[39mencoding \u001b[38;5;129;01mand\u001b[39;00m \u001b[38;5;124m\"\u001b[39m\u001b[38;5;124mb\u001b[39m\u001b[38;5;124m\"\u001b[39m \u001b[38;5;129;01mnot\u001b[39;00m \u001b[38;5;129;01min\u001b[39;00m ioargs\u001b[38;5;241m.\u001b[39mmode:\n\u001b[0;32m    788\u001b[0m         \u001b[38;5;66;03m# Encoding\u001b[39;00m\n\u001b[1;32m--> 789\u001b[0m         handle \u001b[38;5;241m=\u001b[39m \u001b[38;5;28;43mopen\u001b[39;49m\u001b[43m(\u001b[49m\n\u001b[0;32m    790\u001b[0m \u001b[43m            \u001b[49m\u001b[43mhandle\u001b[49m\u001b[43m,\u001b[49m\n\u001b[0;32m    791\u001b[0m \u001b[43m            \u001b[49m\u001b[43mioargs\u001b[49m\u001b[38;5;241;43m.\u001b[39;49m\u001b[43mmode\u001b[49m\u001b[43m,\u001b[49m\n\u001b[0;32m    792\u001b[0m \u001b[43m            \u001b[49m\u001b[43mencoding\u001b[49m\u001b[38;5;241;43m=\u001b[39;49m\u001b[43mioargs\u001b[49m\u001b[38;5;241;43m.\u001b[39;49m\u001b[43mencoding\u001b[49m\u001b[43m,\u001b[49m\n\u001b[0;32m    793\u001b[0m \u001b[43m            \u001b[49m\u001b[43merrors\u001b[49m\u001b[38;5;241;43m=\u001b[39;49m\u001b[43merrors\u001b[49m\u001b[43m,\u001b[49m\n\u001b[0;32m    794\u001b[0m \u001b[43m            \u001b[49m\u001b[43mnewline\u001b[49m\u001b[38;5;241;43m=\u001b[39;49m\u001b[38;5;124;43m\"\u001b[39;49m\u001b[38;5;124;43m\"\u001b[39;49m\u001b[43m,\u001b[49m\n\u001b[0;32m    795\u001b[0m \u001b[43m        \u001b[49m\u001b[43m)\u001b[49m\n\u001b[0;32m    796\u001b[0m     \u001b[38;5;28;01melse\u001b[39;00m:\n\u001b[0;32m    797\u001b[0m         \u001b[38;5;66;03m# Binary mode\u001b[39;00m\n\u001b[0;32m    798\u001b[0m         handle \u001b[38;5;241m=\u001b[39m \u001b[38;5;28mopen\u001b[39m(handle, ioargs\u001b[38;5;241m.\u001b[39mmode)\n",
      "\u001b[1;31mFileNotFoundError\u001b[0m: [Errno 2] No such file or directory: '../data/clean_train_store.csv'"
     ]
    }
   ],
=======
   "execution_count": 71,
   "id": "a79d7c44",
   "metadata": {},
   "outputs": [],
>>>>>>> main
   "source": [
    "train_store_df = pd.read_csv(train_store_file, parse_dates = True, low_memory = False)"
   ]
  },
  {
<<<<<<< HEAD
=======
   "cell_type": "code",
   "execution_count": null,
   "id": "d0535875",
   "metadata": {},
   "outputs": [],
   "source": []
  },
  {
>>>>>>> main
   "cell_type": "markdown",
   "id": "2ce3fddf",
   "metadata": {},
   "source": [
    "### Preprocessing"
   ]
  },
  {
   "cell_type": "code",
<<<<<<< HEAD
   "execution_count": 11,
=======
   "execution_count": 72,
>>>>>>> main
   "id": "1ed7d678",
   "metadata": {},
   "outputs": [
    {
     "name": "stdout",
     "output_type": "stream",
     "text": [
      "<class 'pandas.core.frame.DataFrame'>\n",
      "RangeIndex: 1017209 entries, 0 to 1017208\n",
<<<<<<< HEAD
      "Data columns (total 25 columns):\n",
=======
      "Data columns (total 22 columns):\n",
>>>>>>> main
      " #   Column                     Non-Null Count    Dtype  \n",
      "---  ------                     --------------    -----  \n",
      " 0   Store                      1017209 non-null  int64  \n",
      " 1   DayOfWeek                  1017209 non-null  int64  \n",
      " 2   Date                       1017209 non-null  object \n",
      " 3   Sales                      1017209 non-null  int64  \n",
      " 4   Customers                  1017209 non-null  int64  \n",
      " 5   Open                       1017209 non-null  int64  \n",
      " 6   Promo                      1017209 non-null  int64  \n",
      " 7   StateHoliday               1017209 non-null  object \n",
      " 8   SchoolHoliday              1017209 non-null  int64  \n",
      " 9   Year                       1017209 non-null  int64  \n",
      " 10  Month                      1017209 non-null  int64  \n",
      " 11  Day                        1017209 non-null  int64  \n",
      " 12  WeekOfYear                 1017209 non-null  int64  \n",
<<<<<<< HEAD
      " 13  SalePerCustomer            1017209 non-null  float64\n",
      " 14  StoreType                  1017209 non-null  object \n",
      " 15  Assortment                 1017209 non-null  object \n",
      " 16  CompetitionDistance        1017209 non-null  float64\n",
      " 17  CompetitionOpenSinceMonth  1017209 non-null  float64\n",
      " 18  CompetitionOpenSinceYear   1017209 non-null  float64\n",
      " 19  Promo2                     1017209 non-null  int64  \n",
      " 20  Promo2SinceWeek            1017209 non-null  float64\n",
      " 21  Promo2SinceYear            1017209 non-null  float64\n",
      " 22  PromoInterval              1017209 non-null  object \n",
      " 23  CompetitionOpen            1017209 non-null  float64\n",
      " 24  PromoOpen                  1017209 non-null  float64\n",
      "dtypes: float64(8), int64(12), object(5)\n",
      "memory usage: 194.0+ MB\n"
=======
      " 13  StoreType                  1017209 non-null  object \n",
      " 14  Assortment                 1017209 non-null  object \n",
      " 15  CompetitionDistance        1017209 non-null  float64\n",
      " 16  CompetitionOpenSinceMonth  1017209 non-null  float64\n",
      " 17  CompetitionOpenSinceYear   1017209 non-null  float64\n",
      " 18  Promo2                     1017209 non-null  int64  \n",
      " 19  Promo2SinceWeek            1017209 non-null  float64\n",
      " 20  Promo2SinceYear            1017209 non-null  float64\n",
      " 21  PromoInterval              1017209 non-null  object \n",
      "dtypes: float64(5), int64(12), object(5)\n",
      "memory usage: 170.7+ MB\n"
>>>>>>> main
     ]
    }
   ],
   "source": [
    "train_store_df.info()"
   ]
  },
  {
   "cell_type": "code",
<<<<<<< HEAD
   "execution_count": 12,
=======
   "execution_count": 102,
>>>>>>> main
   "id": "b2b2e5fe",
   "metadata": {},
   "outputs": [
    {
     "data": {
      "text/html": [
       "<div>\n",
       "<style scoped>\n",
       "    .dataframe tbody tr th:only-of-type {\n",
       "        vertical-align: middle;\n",
       "    }\n",
       "\n",
       "    .dataframe tbody tr th {\n",
       "        vertical-align: top;\n",
       "    }\n",
       "\n",
       "    .dataframe thead th {\n",
       "        text-align: right;\n",
       "    }\n",
       "</style>\n",
       "<table border=\"1\" class=\"dataframe\">\n",
       "  <thead>\n",
       "    <tr style=\"text-align: right;\">\n",
       "      <th></th>\n",
       "      <th>Store</th>\n",
       "      <th>DayOfWeek</th>\n",
       "      <th>Open</th>\n",
       "      <th>Promo</th>\n",
       "      <th>SchoolHoliday</th>\n",
       "      <th>Day</th>\n",
       "      <th>WeekOfYear</th>\n",
       "      <th>Month</th>\n",
       "      <th>Year</th>\n",
       "      <th>StoreType</th>\n",
       "      <th>Assortment</th>\n",
       "      <th>CompetitionDistance</th>\n",
       "      <th>Promo2</th>\n",
       "    </tr>\n",
       "  </thead>\n",
       "  <tbody>\n",
       "    <tr>\n",
<<<<<<< HEAD
       "      <th>854519</th>\n",
       "      <td>938</td>\n",
       "      <td>3</td>\n",
       "      <td>1</td>\n",
       "      <td>1</td>\n",
       "      <td>0</td>\n",
       "      <td>8</td>\n",
       "      <td>2</td>\n",
       "      <td>1</td>\n",
       "      <td>2014</td>\n",
       "      <td>a</td>\n",
       "      <td>a</td>\n",
       "      <td>2820.0</td>\n",
       "      <td>0</td>\n",
       "    </tr>\n",
       "    <tr>\n",
       "      <th>783990</th>\n",
       "      <td>861</td>\n",
       "      <td>5</td>\n",
       "      <td>1</td>\n",
       "      <td>1</td>\n",
       "      <td>0</td>\n",
       "      <td>30</td>\n",
       "      <td>5</td>\n",
       "      <td>1</td>\n",
       "      <td>2015</td>\n",
       "      <td>c</td>\n",
       "      <td>c</td>\n",
       "      <td>740.0</td>\n",
       "      <td>1</td>\n",
       "    </tr>\n",
       "    <tr>\n",
       "      <th>811816</th>\n",
       "      <td>891</td>\n",
       "      <td>6</td>\n",
       "      <td>1</td>\n",
       "      <td>0</td>\n",
       "      <td>0</td>\n",
       "      <td>4</td>\n",
       "      <td>40</td>\n",
       "      <td>10</td>\n",
       "      <td>2014</td>\n",
       "      <td>a</td>\n",
       "      <td>c</td>\n",
       "      <td>350.0</td>\n",
       "      <td>1</td>\n",
       "    </tr>\n",
       "    <tr>\n",
       "      <th>7237</th>\n",
       "      <td>8</td>\n",
       "      <td>6</td>\n",
       "      <td>1</td>\n",
       "      <td>0</td>\n",
       "      <td>0</td>\n",
       "      <td>26</td>\n",
       "      <td>43</td>\n",
       "      <td>10</td>\n",
       "      <td>2013</td>\n",
       "      <td>a</td>\n",
       "      <td>a</td>\n",
       "      <td>7520.0</td>\n",
       "      <td>0</td>\n",
       "    </tr>\n",
       "    <tr>\n",
       "      <th>559647</th>\n",
       "      <td>614</td>\n",
       "      <td>1</td>\n",
       "      <td>0</td>\n",
       "      <td>0</td>\n",
       "      <td>0</td>\n",
       "      <td>9</td>\n",
       "      <td>24</td>\n",
       "      <td>6</td>\n",
       "      <td>2014</td>\n",
       "      <td>a</td>\n",
       "      <td>a</td>\n",
       "      <td>1160.0</td>\n",
=======
       "      <th>506133</th>\n",
       "      <td>556</td>\n",
       "      <td>1</td>\n",
       "      <td>0</td>\n",
       "      <td>0</td>\n",
       "      <td>0</td>\n",
       "      <td>25</td>\n",
       "      <td>22</td>\n",
       "      <td>5</td>\n",
       "      <td>2015</td>\n",
       "      <td>d</td>\n",
       "      <td>c</td>\n",
       "      <td>1140.0</td>\n",
       "      <td>0</td>\n",
       "    </tr>\n",
       "    <tr>\n",
       "      <th>504188</th>\n",
       "      <td>553</td>\n",
       "      <td>4</td>\n",
       "      <td>1</td>\n",
       "      <td>0</td>\n",
       "      <td>0</td>\n",
       "      <td>27</td>\n",
       "      <td>26</td>\n",
       "      <td>6</td>\n",
       "      <td>2013</td>\n",
       "      <td>c</td>\n",
       "      <td>a</td>\n",
       "      <td>3040.0</td>\n",
       "      <td>1</td>\n",
       "    </tr>\n",
       "    <tr>\n",
       "      <th>103723</th>\n",
       "      <td>114</td>\n",
       "      <td>4</td>\n",
       "      <td>1</td>\n",
       "      <td>1</td>\n",
       "      <td>0</td>\n",
       "      <td>19</td>\n",
       "      <td>51</td>\n",
       "      <td>12</td>\n",
       "      <td>2013</td>\n",
       "      <td>c</td>\n",
       "      <td>a</td>\n",
       "      <td>4510.0</td>\n",
       "      <td>1</td>\n",
       "    </tr>\n",
       "    <tr>\n",
       "      <th>430790</th>\n",
       "      <td>472</td>\n",
       "      <td>2</td>\n",
       "      <td>1</td>\n",
       "      <td>0</td>\n",
       "      <td>0</td>\n",
       "      <td>6</td>\n",
       "      <td>32</td>\n",
       "      <td>8</td>\n",
       "      <td>2013</td>\n",
       "      <td>c</td>\n",
       "      <td>c</td>\n",
       "      <td>5030.0</td>\n",
       "      <td>0</td>\n",
       "    </tr>\n",
       "    <tr>\n",
       "      <th>360918</th>\n",
       "      <td>396</td>\n",
       "      <td>7</td>\n",
       "      <td>0</td>\n",
       "      <td>0</td>\n",
       "      <td>0</td>\n",
       "      <td>7</td>\n",
       "      <td>49</td>\n",
       "      <td>12</td>\n",
       "      <td>2014</td>\n",
       "      <td>a</td>\n",
       "      <td>c</td>\n",
       "      <td>23130.0</td>\n",
>>>>>>> main
       "      <td>0</td>\n",
       "    </tr>\n",
       "  </tbody>\n",
       "</table>\n",
       "</div>"
      ],
      "text/plain": [
       "        Store  DayOfWeek  Open  Promo  SchoolHoliday  Day  WeekOfYear  Month  \\\n",
<<<<<<< HEAD
       "854519    938          3     1      1              0    8           2      1   \n",
       "783990    861          5     1      1              0   30           5      1   \n",
       "811816    891          6     1      0              0    4          40     10   \n",
       "7237        8          6     1      0              0   26          43     10   \n",
       "559647    614          1     0      0              0    9          24      6   \n",
       "\n",
       "        Year StoreType Assortment  CompetitionDistance  Promo2  \n",
       "854519  2014         a          a               2820.0       0  \n",
       "783990  2015         c          c                740.0       1  \n",
       "811816  2014         a          c                350.0       1  \n",
       "7237    2013         a          a               7520.0       0  \n",
       "559647  2014         a          a               1160.0       0  "
      ]
     },
     "execution_count": 12,
=======
       "506133    556          1     0      0              0   25          22      5   \n",
       "504188    553          4     1      0              0   27          26      6   \n",
       "103723    114          4     1      1              0   19          51     12   \n",
       "430790    472          2     1      0              0    6          32      8   \n",
       "360918    396          7     0      0              0    7          49     12   \n",
       "\n",
       "        Year StoreType Assortment  CompetitionDistance  Promo2  \n",
       "506133  2015         d          c               1140.0       0  \n",
       "504188  2013         c          a               3040.0       1  \n",
       "103723  2013         c          a               4510.0       1  \n",
       "430790  2013         c          c               5030.0       0  \n",
       "360918  2014         a          c              23130.0       0  "
      ]
     },
     "execution_count": 102,
>>>>>>> main
     "metadata": {},
     "output_type": "execute_result"
    }
   ],
   "source": [
    "# ### columns to use\n",
    "# columns = ['DayOfWeek', 'Date', 'Open', 'Promo', 'StateHoliday',\n",
    "#        'SchoolHoliday', 'Year', 'Month', 'Day', 'WeekOfYear']\n",
    "\n",
    "\n",
    "## Lable Date and StateHoiday Train\n",
    "columns = ['Sales','Store', 'DayOfWeek', 'Open', 'Promo',  'SchoolHoliday', 'Day', 'WeekOfYear','Month', 'Year', 'StoreType',\n",
    "              'Assortment','CompetitionDistance', 'Promo2']\n",
    "\n",
    "feature_columns = ['Store', 'DayOfWeek', 'Open', 'Promo',  'SchoolHoliday', 'Day', 'WeekOfYear','Month', 'Year', 'StoreType',\n",
    "              'Assortment','CompetitionDistance', 'Promo2']\n",
    "\n",
    "sample_size = 1000\n",
    "sampled_df = train_store_df[columns].sample(sample_size)\n",
    "\n",
    "\n",
    "## Separet Test and train files\n",
    "train_x = sampled_df[feature_columns]\n",
    "train_y = sampled_df[['Sales']]\n",
    "train_x.head()\n"
   ]
  },
  {
   "cell_type": "code",
<<<<<<< HEAD
   "execution_count": 13,
=======
   "execution_count": 103,
>>>>>>> main
   "id": "912c55de",
   "metadata": {},
   "outputs": [
    {
     "name": "stdout",
     "output_type": "stream",
     "text": [
      "<class 'pandas.core.frame.DataFrame'>\n",
<<<<<<< HEAD
      "Int64Index: 1000 entries, 854519 to 878154\n",
=======
      "Int64Index: 1000 entries, 506133 to 705361\n",
>>>>>>> main
      "Data columns (total 13 columns):\n",
      " #   Column               Non-Null Count  Dtype  \n",
      "---  ------               --------------  -----  \n",
      " 0   Store                1000 non-null   int64  \n",
      " 1   DayOfWeek            1000 non-null   int64  \n",
      " 2   Open                 1000 non-null   int64  \n",
      " 3   Promo                1000 non-null   int64  \n",
      " 4   SchoolHoliday        1000 non-null   int64  \n",
      " 5   Day                  1000 non-null   int64  \n",
      " 6   WeekOfYear           1000 non-null   int64  \n",
      " 7   Month                1000 non-null   int64  \n",
      " 8   Year                 1000 non-null   int64  \n",
<<<<<<< HEAD
      " 9   StoreType            1000 non-null   int32  \n",
      " 10  Assortment           1000 non-null   int32  \n",
      " 11  CompetitionDistance  1000 non-null   float64\n",
      " 12  Promo2               1000 non-null   int64  \n",
      "dtypes: float64(1), int32(2), int64(10)\n",
      "memory usage: 101.6 KB\n"
=======
      " 9   StoreType            1000 non-null   int64  \n",
      " 10  Assortment           1000 non-null   int64  \n",
      " 11  CompetitionDistance  1000 non-null   float64\n",
      " 12  Promo2               1000 non-null   int64  \n",
      "dtypes: float64(1), int64(12)\n",
      "memory usage: 109.4 KB\n"
>>>>>>> main
     ]
    }
   ],
   "source": [
    "### Label encoding\n",
    "lb = LabelEncoder()\n",
    "train_x['StoreType'] = lb.fit_transform(train_x['StoreType'])\n",
    "train_x['Assortment'] = lb.fit_transform(train_x['Assortment'])\n",
    "\n",
    "train_x.info()"
   ]
  },
  {
   "cell_type": "code",
<<<<<<< HEAD
   "execution_count": null,
=======
   "execution_count": 32,
>>>>>>> main
   "id": "1ea2a23e",
   "metadata": {},
   "outputs": [],
   "source": []
  },
  {
   "cell_type": "code",
<<<<<<< HEAD
   "execution_count": 14,
=======
   "execution_count": 104,
>>>>>>> main
   "id": "988684e2",
   "metadata": {},
   "outputs": [],
   "source": [
    "x_scaler = MinMaxScaler()\n",
    "y_scaler = MinMaxScaler()\n",
    "\n",
    "# X = x_scaler.fit_transform(train_x)\n",
    "X = train_x\n",
    "Y = y_scaler.fit_transform(train_y)"
   ]
  },
  {
   "cell_type": "code",
<<<<<<< HEAD
   "execution_count": 15,
=======
   "execution_count": 105,
>>>>>>> main
   "id": "87d4c6ba",
   "metadata": {},
   "outputs": [],
   "source": [
    "X_train, X_test, y_train, y_test = train_test_split(X, Y, test_size=0.2)\n"
   ]
  },
  {
   "cell_type": "code",
<<<<<<< HEAD
   "execution_count": 16,
=======
   "execution_count": 106,
>>>>>>> main
   "id": "6bb61260",
   "metadata": {},
   "outputs": [
    {
     "data": {
      "text/plain": [
       "RandomForestRegressor(max_depth=25, random_state=0)"
      ]
     },
<<<<<<< HEAD
     "execution_count": 16,
=======
     "execution_count": 106,
>>>>>>> main
     "metadata": {},
     "output_type": "execute_result"
    }
   ],
   "source": [
    "rf_reg = RandomForestRegressor(n_estimators = 100, max_depth=25, random_state=0)\n",
    "rf_reg.fit(X_train, y_train)"
   ]
  },
  {
   "cell_type": "code",
<<<<<<< HEAD
   "execution_count": 17,
=======
   "execution_count": 107,
>>>>>>> main
   "id": "dc750aeb",
   "metadata": {},
   "outputs": [
    {
     "name": "stdout",
     "output_type": "stream",
     "text": [
<<<<<<< HEAD
      "Prediction Score of the Model is 47.17%\n"
=======
      "Prediction Score of the Model is 59.67%\n"
>>>>>>> main
     ]
    }
   ],
   "source": [
    "score = rf_reg.score(X_test, y_test)\n",
    "print(f\"Prediction Score of the Model is {round(score * 100, 2)}%\")"
   ]
  },
  {
   "cell_type": "code",
<<<<<<< HEAD
   "execution_count": 18,
=======
   "execution_count": 108,
>>>>>>> main
   "id": "a9a34dd8",
   "metadata": {},
   "outputs": [],
   "source": [
    "def train_model(X, Y, model_type='LinearRegression'):\n",
    "    model = LinearRegression()\n",
    "    \n",
    "    if(model_type == 'RandomForest'):\n",
    "        model = RandomForestRegressor(n_estimators = 100, max_depth=5, random_state=0)\n",
    "    \n",
    "        \n",
    "    kf = KFold(n_splits=5)\n",
    "    for train_index, test_index in kf.split(X):\n",
    "        with mlflow.start_run(run_name=model_type, nested = True):\n",
    "            X_train, X_test = X[train_index], X[test_index]\n",
    "            y_train, y_test = Y[train_index], Y[test_index]\n",
    "\n",
    "            model.fit(X_train, y_train)\n",
    "            score = model.score(X_test, y_test)\n",
    "            print(f\"Prediction Score of the {model_type} is {round(score * 100, 2)}%\")\n",
    "            \n",
    "            if(model_type == 'LinearRegression'):\n",
    "                mlflow.log_param('LR-Score', score)\n",
    "                \n",
    "            if(model_type == 'RandomForest'):\n",
    "                mlflow.log_param('RF-Score', score)\n",
    "                \n",
    "            mlflow.sklearn.log_model(model, model_type +' Model')\n",
    "            mlflow.end_run()\n",
    "            \n",
    "    print()\n",
    "\n",
    "## Running this code will create multiple mflow models \n",
    "## Create a branch before running this file\n",
    "\n",
    "# train_model(X, Y, \"RandomForest\")\n",
    "# train_model(X, Y)"
   ]
  },
  {
   "cell_type": "code",
   "execution_count": null,
   "id": "26161012",
   "metadata": {},
   "outputs": [],
   "source": []
  },
  {
   "cell_type": "markdown",
   "id": "2b034d64",
   "metadata": {},
   "source": [
    "### Building models with sklearn pipelines"
   ]
  },
  {
   "cell_type": "code",
<<<<<<< HEAD
   "execution_count": null,
=======
   "execution_count": 15,
>>>>>>> main
   "id": "e935a5e0",
   "metadata": {},
   "outputs": [],
   "source": []
  },
  {
   "cell_type": "code",
<<<<<<< HEAD
   "execution_count": 19,
=======
   "execution_count": 109,
>>>>>>> main
   "id": "18d92c13",
   "metadata": {},
   "outputs": [],
   "source": [
    "## Prepare the training and test features\n",
    "x = train_x\n",
    "y = train_y\n",
    "\n",
    "X_train, X_test, y_train, y_test = train_test_split(x, y,test_size=0.2)"
   ]
  },
  {
   "cell_type": "code",
<<<<<<< HEAD
   "execution_count": 20,
=======
   "execution_count": 110,
>>>>>>> main
   "id": "038df859",
   "metadata": {},
   "outputs": [],
   "source": [
    "### Pipe Lines ###\n",
    "\n",
    "rfr = Pipeline(steps=[\n",
    "    ('scaler1', MinMaxScaler()),\n",
    "    ('rfr_regretion', RandomForestRegressor(n_estimators = 100, max_depth=5, random_state=0))\n",
    "])\n",
    "\n",
    "lr = Pipeline(steps=[\n",
    "    ('scaler2', MinMaxScaler()),\n",
    "    ('lr_regretion', LinearRegression())\n",
    "])\n",
    "\n",
    "dt = Pipeline(steps=[\n",
    "    ('scaler3', MinMaxScaler()),\n",
    "    ('dt_regretion', DecisionTreeRegressor(random_state = 0)  )\n",
    "])\n"
   ]
  },
  {
   "cell_type": "code",
<<<<<<< HEAD
   "execution_count": 21,
=======
   "execution_count": 111,
>>>>>>> main
   "id": "19a865a4",
   "metadata": {},
   "outputs": [
    {
     "data": {
      "text/plain": [
       "Pipeline(steps=[('scaler3', MinMaxScaler()),\n",
       "                ('dt_regretion', DecisionTreeRegressor(random_state=0))])"
      ]
     },
<<<<<<< HEAD
     "execution_count": 21,
=======
     "execution_count": 111,
>>>>>>> main
     "metadata": {},
     "output_type": "execute_result"
    }
   ],
   "source": [
    "rfr.fit(X_train, y_train)\n",
    "lr.fit(X_train, y_train)\n",
    "dt.fit(X_train, y_train)"
   ]
  },
  {
   "cell_type": "code",
<<<<<<< HEAD
   "execution_count": 22,
=======
   "execution_count": 112,
>>>>>>> main
   "id": "a26ce4e2",
   "metadata": {},
   "outputs": [
    {
     "name": "stdout",
     "output_type": "stream",
     "text": [
<<<<<<< HEAD
      "Prediction Score of the RandomForestRegretion is 48.97%\n",
      "Prediction Score of the LinearRegretion is 50.06%\n",
      "Prediction Score of the DecisionTree is -16.45%\n"
=======
      "Prediction Score of the RandomForestRegretion is 65.42%\n",
      "Prediction Score of the LinearRegretion is 62.42%\n",
      "Prediction Score of the DecisionTree is 35.81%\n"
>>>>>>> main
     ]
    }
   ],
   "source": [
    "rfr_score = rfr.score(X_test, y_test)\n",
    "lr_score = lr.score(X_test, y_test)\n",
    "dt_score = dt.score(X_test, y_test)\n",
    "\n",
    "print(f\"Prediction Score of the RandomForestRegretion is {round(rfr_score * 100, 2)}%\")\n",
    "print(f\"Prediction Score of the LinearRegretion is {round(lr_score * 100, 2)}%\")\n",
    "print(f\"Prediction Score of the DecisionTree is {round(dt_score * 100, 2)}%\")\n",
    "\n",
    "# print(rfr_score)"
   ]
  },
  {
   "cell_type": "code",
   "execution_count": null,
   "id": "d81ee4b3",
   "metadata": {},
   "outputs": [],
   "source": []
  },
  {
   "cell_type": "code",
   "execution_count": null,
   "id": "83752536",
   "metadata": {},
   "outputs": [],
   "source": []
  },
  {
   "cell_type": "markdown",
   "id": "7f3c721f",
   "metadata": {},
   "source": [
    "### Choose a loss function"
   ]
  },
  {
   "cell_type": "code",
<<<<<<< HEAD
   "execution_count": 23,
=======
   "execution_count": 113,
>>>>>>> main
   "id": "10810bb4",
   "metadata": {},
   "outputs": [
    {
     "name": "stdout",
     "output_type": "stream",
     "text": [
<<<<<<< HEAD
      "RandomForest Mean Square Loss : 2544.960020433739\n",
      "Linear Mean Square Loss : 2517.7344586427557\n",
      "DecisionTree Mean Square Loss : 3844.6497493269785%\n"
=======
      "RandomForest Mean Square Loss : 2093.132399328146\n",
      "Linear Mean Square Loss : 2181.9769522185516\n",
      "DecisionTree Mean Square Loss : 2851.736600739977%\n"
>>>>>>> main
     ]
    }
   ],
   "source": [
    "rfr_prediction = rfr.predict(X_test)\n",
    "lr_prediction = lr.predict(X_test)\n",
    "dt_prediction = dt.predict(X_test)\n",
    "\n",
    "rfr_rmse, rft_mae, _ = util.eval_metrics(y_test, rfr_prediction)\n",
    "lr_rmse, lr_mae, _ = util.eval_metrics(y_test, lr_prediction)\n",
    "dt_rmse, dt_mae, _ = util.eval_metrics(y_test, dt_prediction)\n",
    "\n",
    "\n",
    "# print(f\"Mean Absolute Loss : {round(mae * 100, 2)}%\")\n",
    "print(f\"RandomForest Mean Square Loss : {rfr_rmse}\")\n",
    "print(f\"Linear Mean Square Loss : {lr_rmse}\")\n",
    "print(f\"DecisionTree Mean Square Loss : {dt_rmse }%\")"
   ]
  },
  {
   "cell_type": "markdown",
   "id": "bf52437f",
   "metadata": {},
   "source": [
    "### Post Prediction analysis"
   ]
  },
  {
   "cell_type": "code",
<<<<<<< HEAD
   "execution_count": 24,
=======
   "execution_count": 114,
>>>>>>> main
   "id": "916cef98",
   "metadata": {},
   "outputs": [
    {
     "data": {
<<<<<<< HEAD
      "image/png": "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\n",
=======
      "image/png": "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\n",
>>>>>>> main
      "text/plain": [
       "<Figure size 864x432 with 1 Axes>"
      ]
     },
     "metadata": {
      "needs_background": "light"
     },
     "output_type": "display_data"
    }
   ],
   "source": [
    "\n",
    "important_features = rfr[1].feature_importances_\n",
    "plot.bar(feature_columns, important_features, 'RandomForestRegretion Feature Importance')"
   ]
  },
  {
   "cell_type": "code",
<<<<<<< HEAD
   "execution_count": 25,
=======
   "execution_count": 115,
>>>>>>> main
   "id": "9f4fe40a",
   "metadata": {},
   "outputs": [
    {
     "data": {
<<<<<<< HEAD
      "image/png": "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\n",
=======
      "image/png": "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\n",
>>>>>>> main
      "text/plain": [
       "<Figure size 864x432 with 1 Axes>"
      ]
     },
     "metadata": {
      "needs_background": "light"
     },
     "output_type": "display_data"
    }
   ],
   "source": [
    "important_features = lr[1].coef_[0]\n",
    "from matplotlib import pyplot as plt\n",
    "plot.bar(feature_columns, list(important_features), \"LinearRegretion Feature Importance\")"
   ]
  },
  {
   "cell_type": "code",
<<<<<<< HEAD
   "execution_count": 26,
=======
   "execution_count": 116,
>>>>>>> main
   "id": "c9899791",
   "metadata": {},
   "outputs": [
    {
     "data": {
<<<<<<< HEAD
      "image/png": "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\n",
=======
      "image/png": "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\n",
>>>>>>> main
      "text/plain": [
       "<Figure size 864x432 with 1 Axes>"
      ]
     },
     "metadata": {
      "needs_background": "light"
     },
     "output_type": "display_data"
    }
   ],
   "source": [
    "important_features = dt[1].feature_importances_\n",
    "plot.bar(feature_columns, important_features)"
   ]
  },
  {
   "cell_type": "markdown",
   "id": "fc2226ab",
   "metadata": {},
   "source": [
    "### Serialize models"
   ]
  },
  {
   "cell_type": "code",
<<<<<<< HEAD
   "execution_count": 27,
=======
   "execution_count": 92,
>>>>>>> main
   "id": "cf4d2913",
   "metadata": {},
   "outputs": [
    {
     "name": "stdout",
     "output_type": "stream",
     "text": [
<<<<<<< HEAD
      "../models/reg-2022-05-24 23:32:56.280775.pkl\n"
=======
      "../models/reg-2021-07-30 12:04:14.474625.pkl\n"
>>>>>>> main
     ]
    }
   ],
   "source": [
    "## use picke to dump mode\n",
    "## decomment picke to save the model\n",
    "\n",
    "reg_model_file_name = f'../models/reg-{datetime.now()}.pkl'\n",
    "lr_model_file_name = f'../models/lt-{datetime.now()}.pkl'\n",
    "dt_model_file_name = f'../models/dt-{datetime.now()}.pkl'\n",
    "\n",
    "files = [reg_model_file_name, lr_model_file_name, dt_model_file_name]\n",
    "models = [rfr, lr, dt]\n",
    "\n",
    "print(reg_model_file_name)\n",
    "\n",
    "\n",
    "# for i in range(len(files)):\n",
    "#         pickle.dump(models[i], open(files[i], 'wb'))"
   ]
  },
  {
   "cell_type": "code",
<<<<<<< HEAD
   "execution_count": 28,
=======
   "execution_count": null,
>>>>>>> main
   "id": "d0758959",
   "metadata": {},
   "outputs": [],
   "source": [
    "### Add the mlflow here\n"
   ]
  },
  {
   "cell_type": "code",
<<<<<<< HEAD
   "execution_count": 29,
   "id": "f3a9591c",
   "metadata": {},
   "outputs": [
    {
     "ename": "OSError",
     "evalue": "[Errno 22] Invalid argument: '../models/lt-2021-07-30 12:04:14.474722.pkl'",
     "output_type": "error",
     "traceback": [
      "\u001b[1;31m---------------------------------------------------------------------------\u001b[0m",
      "\u001b[1;31mOSError\u001b[0m                                   Traceback (most recent call last)",
      "Input \u001b[1;32mIn [29]\u001b[0m, in \u001b[0;36m<cell line: 3>\u001b[1;34m()\u001b[0m\n\u001b[0;32m      1\u001b[0m dt_file \u001b[38;5;241m=\u001b[39m \u001b[38;5;124m'\u001b[39m\u001b[38;5;124m../models/dt-2021-07-30 09:51:48.726269.pkl\u001b[39m\u001b[38;5;124m'\u001b[39m\n\u001b[0;32m      2\u001b[0m lr_file \u001b[38;5;241m=\u001b[39m \u001b[38;5;124m'\u001b[39m\u001b[38;5;124m../models/lt-2021-07-30 12:04:14.474722.pkl\u001b[39m\u001b[38;5;124m'\u001b[39m\n\u001b[1;32m----> 3\u001b[0m model \u001b[38;5;241m=\u001b[39m pickle\u001b[38;5;241m.\u001b[39mload(\u001b[38;5;28;43mopen\u001b[39;49m\u001b[43m(\u001b[49m\u001b[43mlr_file\u001b[49m\u001b[43m,\u001b[49m\u001b[43m \u001b[49m\u001b[38;5;124;43m'\u001b[39;49m\u001b[38;5;124;43mrb\u001b[39;49m\u001b[38;5;124;43m'\u001b[39;49m\u001b[43m)\u001b[49m)\n",
      "\u001b[1;31mOSError\u001b[0m: [Errno 22] Invalid argument: '../models/lt-2021-07-30 12:04:14.474722.pkl'"
     ]
    }
   ],
=======
   "execution_count": 93,
   "id": "f3a9591c",
   "metadata": {},
   "outputs": [],
>>>>>>> main
   "source": [
    "dt_file = '../models/dt-2021-07-30 09:51:48.726269.pkl'\n",
    "lr_file = '../models/lt-2021-07-30 12:04:14.474722.pkl'\n",
    "model = pickle.load(open(lr_file, 'rb'))"
   ]
  },
  {
   "cell_type": "code",
<<<<<<< HEAD
   "execution_count": 30,
=======
   "execution_count": 94,
>>>>>>> main
   "id": "da3c462c",
   "metadata": {},
   "outputs": [
    {
<<<<<<< HEAD
     "ename": "NameError",
     "evalue": "name 'model' is not defined",
     "output_type": "error",
     "traceback": [
      "\u001b[1;31m---------------------------------------------------------------------------\u001b[0m",
      "\u001b[1;31mNameError\u001b[0m                                 Traceback (most recent call last)",
      "Input \u001b[1;32mIn [30]\u001b[0m, in \u001b[0;36m<cell line: 1>\u001b[1;34m()\u001b[0m\n\u001b[1;32m----> 1\u001b[0m score \u001b[38;5;241m=\u001b[39m \u001b[43mmodel\u001b[49m\u001b[38;5;241m.\u001b[39mscore(X_test, y_test)\n\u001b[0;32m      2\u001b[0m score\n",
      "\u001b[1;31mNameError\u001b[0m: name 'model' is not defined"
     ]
=======
     "data": {
      "text/plain": [
       "0.5447036122852738"
      ]
     },
     "execution_count": 94,
     "metadata": {},
     "output_type": "execute_result"
>>>>>>> main
    }
   ],
   "source": [
    "score = model.score(X_test, y_test)\n",
    "score"
   ]
<<<<<<< HEAD
  },
  {
   "cell_type": "code",
   "execution_count": null,
   "id": "03c7cc7b",
   "metadata": {},
   "outputs": [],
   "source": []
=======
>>>>>>> main
  }
 ],
 "metadata": {
  "kernelspec": {
<<<<<<< HEAD
   "display_name": "Python 3 (ipykernel)",
=======
   "display_name": "Python 3",
>>>>>>> main
   "language": "python",
   "name": "python3"
  },
  "language_info": {
   "codemirror_mode": {
    "name": "ipython",
    "version": 3
   },
   "file_extension": ".py",
   "mimetype": "text/x-python",
   "name": "python",
   "nbconvert_exporter": "python",
   "pygments_lexer": "ipython3",
<<<<<<< HEAD
   "version": "3.8.13"
=======
   "version": "3.8.8"
>>>>>>> main
  }
 },
 "nbformat": 4,
 "nbformat_minor": 5
}
