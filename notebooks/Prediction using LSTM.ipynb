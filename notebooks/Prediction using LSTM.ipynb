{
 "cells": [
  {
   "cell_type": "markdown",
   "metadata": {},
   "source": [
    "# Rossman Pharmaceutical Sales Prediction"
   ]
  },
  {
   "cell_type": "markdown",
   "metadata": {},
   "source": [
    "## Imports"
   ]
  },
  {
   "cell_type": "code",
   "execution_count": 7,
   "metadata": {},
   "outputs": [],
   "source": [
    "import numpy as np\n",
    "import pandas as pd\n",
    "import sys\n",
    "import mlflow\n",
    "import warnings\n",
    "import pickle\n",
    "import matplotlib.pyplot as plt\n",
    "from matplotlib.gridspec import GridSpec\n",
    "from matplotlib import ticker\n",
    "from statsmodels.tsa.stattools import adfuller, acf, pacf\n",
    "from sklearn.preprocessing import MinMaxScaler\n",
    "from sklearn.preprocessing import StandardScaler\n",
    "import tensorflow as tf\n",
    "from tensorflow.keras.models import Sequential\n",
    "from tensorflow.keras.layers import Dense\n",
    "from tensorflow.keras.layers import LSTM"
   ]
  },
  {
   "cell_type": "code",
   "execution_count": 8,
   "metadata": {},
   "outputs": [],
   "source": [
    "# sns.set()\n",
    "%matplotlib inline\n",
    "warnings.filterwarnings(\"ignore\")"
   ]
  },
  {
   "cell_type": "code",
   "execution_count": 13,
   "metadata": {},
   "outputs": [],
   "source": [
    "sys.path.append(\"/Users/user/Pharmaceutical_Sales_prediction\")\n",
    "#from scripts import file_handler"
   ]
  },
  {
   "cell_type": "markdown",
   "metadata": {},
   "source": [
    "## Preprocessing"
   ]
  },
  {
   "cell_type": "markdown",
   "metadata": {},
   "source": [
    "We have alreadyseen which features influence sales in the exploratory section. And we have used many of the columns for the 4 machine learning models used as seen in the scripts. But for LSTM only the date and sales columns will be used."
   ]
  },
  {
   "cell_type": "code",
   "execution_count": 17,
   "metadata": {},
   "outputs": [],
   "source": [
    "#file_handler = FileHandler()\n",
    "#train_sales = file_handler.read_csv(\"../data/train.csv\")\n",
    "train_file = '../data/clean_train_store.csv'\n",
    "train_sales = pd.read_csv(train_file, parse_dates = True, low_memory = False)"
   ]
  },
  {
   "cell_type": "code",
   "execution_count": 18,
   "metadata": {},
   "outputs": [
    {
     "data": {
      "text/html": [
       "<div>\n",
       "<style scoped>\n",
       "    .dataframe tbody tr th:only-of-type {\n",
       "        vertical-align: middle;\n",
       "    }\n",
       "\n",
       "    .dataframe tbody tr th {\n",
       "        vertical-align: top;\n",
       "    }\n",
       "\n",
       "    .dataframe thead th {\n",
       "        text-align: right;\n",
       "    }\n",
       "</style>\n",
       "<table border=\"1\" class=\"dataframe\">\n",
       "  <thead>\n",
       "    <tr style=\"text-align: right;\">\n",
       "      <th></th>\n",
       "      <th>Sales</th>\n",
       "    </tr>\n",
       "    <tr>\n",
       "      <th>Date</th>\n",
       "      <th></th>\n",
       "    </tr>\n",
       "  </thead>\n",
       "  <tbody>\n",
       "    <tr>\n",
       "      <th>2013-01-01</th>\n",
       "      <td>18.755556</td>\n",
       "    </tr>\n",
       "    <tr>\n",
       "      <th>2013-01-02</th>\n",
       "      <td>5991.964444</td>\n",
       "    </tr>\n",
       "    <tr>\n",
       "      <th>2013-01-03</th>\n",
       "      <td>5400.386667</td>\n",
       "    </tr>\n",
       "    <tr>\n",
       "      <th>2013-01-04</th>\n",
       "      <td>5716.217778</td>\n",
       "    </tr>\n",
       "    <tr>\n",
       "      <th>2013-01-05</th>\n",
       "      <td>5104.604444</td>\n",
       "    </tr>\n",
       "    <tr>\n",
       "      <th>...</th>\n",
       "      <td>...</td>\n",
       "    </tr>\n",
       "    <tr>\n",
       "      <th>2015-07-27</th>\n",
       "      <td>9330.057522</td>\n",
       "    </tr>\n",
       "    <tr>\n",
       "      <th>2015-07-28</th>\n",
       "      <td>7892.123894</td>\n",
       "    </tr>\n",
       "    <tr>\n",
       "      <th>2015-07-29</th>\n",
       "      <td>7428.000000</td>\n",
       "    </tr>\n",
       "    <tr>\n",
       "      <th>2015-07-30</th>\n",
       "      <td>7608.057522</td>\n",
       "    </tr>\n",
       "    <tr>\n",
       "      <th>2015-07-31</th>\n",
       "      <td>8720.765487</td>\n",
       "    </tr>\n",
       "  </tbody>\n",
       "</table>\n",
       "<p>942 rows × 1 columns</p>\n",
       "</div>"
      ],
      "text/plain": [
       "                  Sales\n",
       "Date                   \n",
       "2013-01-01    18.755556\n",
       "2013-01-02  5991.964444\n",
       "2013-01-03  5400.386667\n",
       "2013-01-04  5716.217778\n",
       "2013-01-05  5104.604444\n",
       "...                 ...\n",
       "2015-07-27  9330.057522\n",
       "2015-07-28  7892.123894\n",
       "2015-07-29  7428.000000\n",
       "2015-07-30  7608.057522\n",
       "2015-07-31  8720.765487\n",
       "\n",
       "[942 rows x 1 columns]"
      ]
     },
     "execution_count": 18,
     "metadata": {},
     "output_type": "execute_result"
    }
   ],
   "source": [
    "data = train_sales.groupby(\"Date\").agg({\"Sales\": \"mean\"})\n",
    "data"
   ]
  },
  {
   "cell_type": "code",
   "execution_count": 19,
   "metadata": {},
   "outputs": [],
   "source": [
    "scaler = StandardScaler()\n",
    "scaled_array = scaler.fit_transform(data)\n",
    "data['DataScaled'] = scaled_array\n"
   ]
  },
  {
   "cell_type": "code",
   "execution_count": 20,
   "metadata": {},
   "outputs": [],
   "source": [
    "SIZE = len(data.DataScaled)\n",
    "WINDOW_SIZE = 48\n",
    "BATCH_SIZE = SIZE - WINDOW_SIZE * 2\n",
    "EPOCHS = 200"
   ]
  },
  {
   "cell_type": "code",
   "execution_count": 21,
   "metadata": {},
   "outputs": [
    {
     "name": "stdout",
     "output_type": "stream",
     "text": [
      "Shape of the training set date series:  (846, 1)\n",
      "Shape of the validation set date series:  (96, 1)\n",
      "\n",
      "Shape of the training set logarithm of sales series:  (846,)\n",
      "Shape of the validation set logarithm of sales series in a stateless LSTM:  (96,)\n"
     ]
    }
   ],
   "source": [
    "DateTrain = data.index.values[0:BATCH_SIZE]\n",
    "DateValid = data.index.values[BATCH_SIZE:]\n",
    "XTrain = data.DataScaled.values[0:BATCH_SIZE].astype('float32')\n",
    "XValid = data.DataScaled.values[BATCH_SIZE:].astype('float32')\n",
    "\n",
    "# Obtain shapes for vectors of size (,1) for dates series\n",
    "\n",
    "DateTrain = np.reshape(DateTrain, (-1, 1))\n",
    "DateValid = np.reshape(DateValid, (-1, 1))\n",
    "\n",
    "print(\"Shape of the training set date series: \", DateTrain.shape)\n",
    "print(\"Shape of the validation set date series: \", DateValid.shape)\n",
    "print()\n",
    "print(\"Shape of the training set logarithm of sales series: \", XTrain.shape)\n",
    "print(\"Shape of the validation set logarithm of sales series in a stateless LSTM: \", XValid.shape)\n"
   ]
  },
  {
   "cell_type": "code",
   "execution_count": 22,
   "metadata": {},
   "outputs": [
    {
     "data": {
      "text/plain": [
       "TensorShape([846, 1])"
      ]
     },
     "execution_count": 22,
     "metadata": {},
     "output_type": "execute_result"
    }
   ],
   "source": [
    "tf.random.set_seed(1234)\n",
    "# add extra dimension\n",
    "series = tf.expand_dims(XTrain, axis=-1)\n",
    "series.shape\n"
   ]
  },
  {
   "cell_type": "code",
   "execution_count": 23,
   "metadata": {},
   "outputs": [
    {
     "data": {
      "text/plain": [
       "<TensorSliceDataset element_spec=TensorSpec(shape=(1,), dtype=tf.float32, name=None)>"
      ]
     },
     "execution_count": 23,
     "metadata": {},
     "output_type": "execute_result"
    }
   ],
   "source": [
    "# create tensor from each individual element\n",
    "dataset = tf.data.Dataset.from_tensor_slices(series)\n",
    "dataset\n"
   ]
  },
  {
   "cell_type": "code",
   "execution_count": 24,
   "metadata": {},
   "outputs": [],
   "source": [
    "# takes a window_size + 1 chunk from the slices\n",
    "dataset = dataset.window(WINDOW_SIZE + 1, shift=1, drop_remainder=True)\n"
   ]
  },
  {
   "cell_type": "code",
   "execution_count": 25,
   "metadata": {},
   "outputs": [
    {
     "name": "stdout",
     "output_type": "stream",
     "text": [
      "[0, 1, 2, 3, 4]\n",
      "[1, 2, 3, 4, 5]\n",
      "[2, 3, 4, 5, 6]\n",
      "[3, 4, 5, 6, 7]\n",
      "[4, 5, 6, 7, 8]\n",
      "[5, 6, 7, 8, 9]\n"
     ]
    }
   ],
   "source": [
    "# Example of Window\n",
    "datasetEx = tf.data.Dataset.from_tensor_slices(tf.range(10))\n",
    "datasetEx = datasetEx.window(5, shift=1, drop_remainder=True)\n",
    "for window in datasetEx:\n",
    "    print([elem.numpy() for elem in window])\n"
   ]
  },
  {
   "cell_type": "code",
   "execution_count": 26,
   "metadata": {},
   "outputs": [],
   "source": [
    "dataset = dataset.flat_map(lambda window: window.batch(WINDOW_SIZE + 1))\n"
   ]
  },
  {
   "cell_type": "code",
   "execution_count": 27,
   "metadata": {},
   "outputs": [],
   "source": [
    "dataset = dataset.map(lambda window: (window[:-1], window[-1:]))\n"
   ]
  },
  {
   "cell_type": "code",
   "execution_count": 28,
   "metadata": {},
   "outputs": [],
   "source": [
    "dataset = dataset.batch(BATCH_SIZE).prefetch(1)\n"
   ]
  },
  {
   "cell_type": "code",
   "execution_count": 29,
   "metadata": {},
   "outputs": [],
   "source": [
    "def windowed_dataset(series, window_size=WINDOW_SIZE, batch_size=BATCH_SIZE):\n",
    "  series = tf.expand_dims(series, axis=-1)\n",
    "  dataset = tf.data.Dataset.from_tensor_slices(series)\n",
    "  dataset = dataset.window(window_size + 1, shift=1, drop_remainder=True)\n",
    "  dataset = dataset.flat_map(lambda window: window.batch(window_size + 1))\n",
    "  dataset = dataset.map(lambda window: (window[:-1], window[-1:]))\n",
    "  dataset = dataset.batch(batch_size).prefetch(1)\n",
    "  return dataset\n"
   ]
  },
  {
   "cell_type": "code",
   "execution_count": 30,
   "metadata": {},
   "outputs": [],
   "source": [
    "DatasetTrain = windowed_dataset(XTrain)\n",
    "DatasetVal = windowed_dataset(XValid)\n"
   ]
  },
  {
   "cell_type": "markdown",
   "metadata": {},
   "source": [
    "## Model Training"
   ]
  },
  {
   "cell_type": "code",
   "execution_count": 31,
   "metadata": {},
   "outputs": [],
   "source": [
    "model = Sequential()\n",
    "model.add(LSTM(8, input_shape=[None, 1], return_sequences=True))\n",
    "model.add(LSTM(4, input_shape=[None, 1]))\n",
    "model.add(Dense(1))\n",
    "model.compile(loss=\"huber_loss\", optimizer='adam')\n"
   ]
  },
  {
   "cell_type": "code",
   "execution_count": 32,
   "metadata": {},
   "outputs": [
    {
     "name": "stdout",
     "output_type": "stream",
     "text": [
      "Model: \"sequential\"\n",
      "_________________________________________________________________\n",
      " Layer (type)                Output Shape              Param #   \n",
      "=================================================================\n",
      " lstm (LSTM)                 (None, None, 8)           320       \n",
      "                                                                 \n",
      " lstm_1 (LSTM)               (None, 4)                 208       \n",
      "                                                                 \n",
      " dense (Dense)               (None, 1)                 5         \n",
      "                                                                 \n",
      "=================================================================\n",
      "Total params: 533\n",
      "Trainable params: 533\n",
      "Non-trainable params: 0\n",
      "_________________________________________________________________\n"
     ]
    }
   ],
   "source": [
    "model.summary()\n"
   ]
  },
  {
   "cell_type": "code",
   "execution_count": 33,
   "metadata": {},
   "outputs": [
    {
     "name": "stderr",
     "output_type": "stream",
     "text": [
      "WARNING:root:Malformed experiment 'mlruns'. Detailed error Yaml file 'C:\\Users\\user\\Pharmaceutical_Sales_prediction\\notebooks\\mlruns\\mlruns\\meta.yaml' does not exist.\n",
      "Traceback (most recent call last):\n",
      "  File \"C:\\Users\\user\\anaconda3\\lib\\site-packages\\mlflow\\store\\tracking\\file_store.py\", line 256, in list_experiments\n",
      "    experiment = self._get_experiment(exp_id, view_type)\n",
      "  File \"C:\\Users\\user\\anaconda3\\lib\\site-packages\\mlflow\\store\\tracking\\file_store.py\", line 336, in _get_experiment\n",
      "    meta = read_yaml(experiment_dir, FileStore.META_DATA_FILE_NAME)\n",
      "  File \"C:\\Users\\user\\anaconda3\\lib\\site-packages\\mlflow\\utils\\file_utils.py\", line 175, in read_yaml\n",
      "    raise MissingConfigException(\"Yaml file '%s' does not exist.\" % file_path)\n",
      "mlflow.exceptions.MissingConfigException: Yaml file 'C:\\Users\\user\\Pharmaceutical_Sales_prediction\\notebooks\\mlruns\\mlruns\\meta.yaml' does not exist.\n"
     ]
    },
    {
     "name": "stdout",
     "output_type": "stream",
     "text": [
      "INFO: 'LSTM' does not exist. Creating a new experiment\n"
     ]
    },
    {
     "name": "stderr",
     "output_type": "stream",
     "text": [
      "WARNING:root:Malformed experiment 'mlruns'. Detailed error Yaml file 'C:\\Users\\user\\Pharmaceutical_Sales_prediction\\notebooks\\mlruns\\mlruns\\meta.yaml' does not exist.\n",
      "Traceback (most recent call last):\n",
      "  File \"C:\\Users\\user\\anaconda3\\lib\\site-packages\\mlflow\\store\\tracking\\file_store.py\", line 256, in list_experiments\n",
      "    experiment = self._get_experiment(exp_id, view_type)\n",
      "  File \"C:\\Users\\user\\anaconda3\\lib\\site-packages\\mlflow\\store\\tracking\\file_store.py\", line 336, in _get_experiment\n",
      "    meta = read_yaml(experiment_dir, FileStore.META_DATA_FILE_NAME)\n",
      "  File \"C:\\Users\\user\\anaconda3\\lib\\site-packages\\mlflow\\utils\\file_utils.py\", line 175, in read_yaml\n",
      "    raise MissingConfigException(\"Yaml file '%s' does not exist.\" % file_path)\n",
      "mlflow.exceptions.MissingConfigException: Yaml file 'C:\\Users\\user\\Pharmaceutical_Sales_prediction\\notebooks\\mlruns\\mlruns\\meta.yaml' does not exist.\n",
      "WARNING:root:Malformed experiment 'mlruns'. Detailed error Yaml file 'C:\\Users\\user\\Pharmaceutical_Sales_prediction\\notebooks\\mlruns\\mlruns\\meta.yaml' does not exist.\n",
      "Traceback (most recent call last):\n",
      "  File \"C:\\Users\\user\\anaconda3\\lib\\site-packages\\mlflow\\store\\tracking\\file_store.py\", line 256, in list_experiments\n",
      "    experiment = self._get_experiment(exp_id, view_type)\n",
      "  File \"C:\\Users\\user\\anaconda3\\lib\\site-packages\\mlflow\\store\\tracking\\file_store.py\", line 336, in _get_experiment\n",
      "    meta = read_yaml(experiment_dir, FileStore.META_DATA_FILE_NAME)\n",
      "  File \"C:\\Users\\user\\anaconda3\\lib\\site-packages\\mlflow\\utils\\file_utils.py\", line 175, in read_yaml\n",
      "    raise MissingConfigException(\"Yaml file '%s' does not exist.\" % file_path)\n",
      "mlflow.exceptions.MissingConfigException: Yaml file 'C:\\Users\\user\\Pharmaceutical_Sales_prediction\\notebooks\\mlruns\\mlruns\\meta.yaml' does not exist.\n",
      "2022/05/28 15:57:55 WARNING mlflow.utils.autologging_utils: You are using an unsupported version of tensorflow. If you encounter errors during autologging, try upgrading / downgrading tensorflow to a supported version, or try upgrading MLflow.\n",
      "2022/05/28 15:57:58 INFO mlflow.utils.autologging_utils: Created MLflow autologging run with ID '6ddc8a46ee36406ea427055f3ecf8b84', which will track hyperparameters, performance metrics, model artifacts, and lineage information for the current tensorflow workflow\n"
     ]
    },
    {
     "name": "stdout",
     "output_type": "stream",
     "text": [
      "Epoch 1/200\n",
      "1/1 [==============================] - 20s 20s/step - loss: 0.4074 - val_loss: 0.4022\n",
      "Epoch 2/200\n",
      "1/1 [==============================] - 0s 283ms/step - loss: 0.4066 - val_loss: 0.4008\n",
      "Epoch 3/200\n",
      "1/1 [==============================] - 0s 318ms/step - loss: 0.4059 - val_loss: 0.3994\n",
      "Epoch 4/200\n",
      "1/1 [==============================] - 0s 321ms/step - loss: 0.4052 - val_loss: 0.3980\n",
      "Epoch 5/200\n",
      "1/1 [==============================] - 1s 1s/step - loss: 0.4045 - val_loss: 0.3967\n",
      "Epoch 6/200\n",
      "1/1 [==============================] - 1s 1s/step - loss: 0.4038 - val_loss: 0.3953\n",
      "Epoch 7/200\n",
      "1/1 [==============================] - 1s 579ms/step - loss: 0.4032 - val_loss: 0.3940\n",
      "Epoch 8/200\n",
      "1/1 [==============================] - 1s 1s/step - loss: 0.4025 - val_loss: 0.3927\n",
      "Epoch 9/200\n",
      "1/1 [==============================] - 3s 3s/step - loss: 0.4019 - val_loss: 0.3914\n",
      "Epoch 10/200\n",
      "1/1 [==============================] - 2s 2s/step - loss: 0.4013 - val_loss: 0.3900\n",
      "Epoch 11/200\n",
      "1/1 [==============================] - 1s 1s/step - loss: 0.4007 - val_loss: 0.3887\n",
      "Epoch 12/200\n",
      "1/1 [==============================] - 1s 1s/step - loss: 0.4002 - val_loss: 0.3874\n",
      "Epoch 13/200\n",
      "1/1 [==============================] - 1s 984ms/step - loss: 0.3997 - val_loss: 0.3862\n",
      "Epoch 14/200\n",
      "1/1 [==============================] - 2s 2s/step - loss: 0.3991 - val_loss: 0.3849\n",
      "Epoch 15/200\n",
      "1/1 [==============================] - 0s 289ms/step - loss: 0.3987 - val_loss: 0.3836\n",
      "Epoch 16/200\n",
      "1/1 [==============================] - 0s 319ms/step - loss: 0.3982 - val_loss: 0.3824\n",
      "Epoch 17/200\n",
      "1/1 [==============================] - 0s 296ms/step - loss: 0.3978 - val_loss: 0.3811\n",
      "Epoch 18/200\n",
      "1/1 [==============================] - 1s 1s/step - loss: 0.3973 - val_loss: 0.3799\n",
      "Epoch 19/200\n",
      "1/1 [==============================] - 1s 699ms/step - loss: 0.3969 - val_loss: 0.3787\n",
      "Epoch 20/200\n",
      "1/1 [==============================] - 2s 2s/step - loss: 0.3966 - val_loss: 0.3775\n",
      "Epoch 21/200\n",
      "1/1 [==============================] - 2s 2s/step - loss: 0.3962 - val_loss: 0.3764\n",
      "Epoch 22/200\n",
      "1/1 [==============================] - 1s 630ms/step - loss: 0.3959 - val_loss: 0.3752\n",
      "Epoch 23/200\n",
      "1/1 [==============================] - 1s 1s/step - loss: 0.3956 - val_loss: 0.3741\n",
      "Epoch 24/200\n",
      "1/1 [==============================] - 1s 744ms/step - loss: 0.3954 - val_loss: 0.3731\n",
      "Epoch 25/200\n",
      "1/1 [==============================] - 2s 2s/step - loss: 0.3951 - val_loss: 0.3721\n",
      "Epoch 26/200\n",
      "1/1 [==============================] - 1s 548ms/step - loss: 0.3949 - val_loss: 0.3711\n",
      "Epoch 27/200\n",
      "1/1 [==============================] - 2s 2s/step - loss: 0.3947 - val_loss: 0.3701\n",
      "Epoch 28/200\n",
      "1/1 [==============================] - 1s 630ms/step - loss: 0.3945 - val_loss: 0.3693\n",
      "Epoch 29/200\n",
      "1/1 [==============================] - 2s 2s/step - loss: 0.3943 - val_loss: 0.3684\n",
      "Epoch 30/200\n",
      "1/1 [==============================] - 0s 302ms/step - loss: 0.3942 - val_loss: 0.3676\n",
      "Epoch 31/200\n",
      "1/1 [==============================] - 1s 518ms/step - loss: 0.3940 - val_loss: 0.3669\n",
      "Epoch 32/200\n",
      "1/1 [==============================] - 0s 310ms/step - loss: 0.3939 - val_loss: 0.3663\n",
      "Epoch 33/200\n",
      "1/1 [==============================] - 1s 596ms/step - loss: 0.3937 - val_loss: 0.3657\n",
      "Epoch 34/200\n",
      "1/1 [==============================] - 1s 1s/step - loss: 0.3936 - val_loss: 0.3651\n",
      "Epoch 35/200\n",
      "1/1 [==============================] - 0s 465ms/step - loss: 0.3934 - val_loss: 0.3647\n",
      "Epoch 36/200\n",
      "1/1 [==============================] - 1s 619ms/step - loss: 0.3933 - val_loss: 0.3643\n",
      "Epoch 37/200\n",
      "1/1 [==============================] - 2s 2s/step - loss: 0.3931 - val_loss: 0.3640\n",
      "Epoch 38/200\n",
      "1/1 [==============================] - 1s 1s/step - loss: 0.3929 - val_loss: 0.3637\n",
      "Epoch 39/200\n",
      "1/1 [==============================] - 1s 623ms/step - loss: 0.3928 - val_loss: 0.3635\n",
      "Epoch 40/200\n",
      "1/1 [==============================] - 0s 348ms/step - loss: 0.3926 - val_loss: 0.3634\n",
      "Epoch 41/200\n",
      "1/1 [==============================] - 1s 552ms/step - loss: 0.3924 - val_loss: 0.3633\n",
      "Epoch 42/200\n",
      "1/1 [==============================] - 1s 1s/step - loss: 0.3922 - val_loss: 0.3632\n",
      "Epoch 43/200\n",
      "1/1 [==============================] - 1s 1s/step - loss: 0.3920 - val_loss: 0.3632\n",
      "Epoch 44/200\n",
      "1/1 [==============================] - 1s 565ms/step - loss: 0.3918 - val_loss: 0.3632\n",
      "Epoch 45/200\n",
      "1/1 [==============================] - 0s 474ms/step - loss: 0.3916 - val_loss: 0.3633\n",
      "Epoch 46/200\n",
      "1/1 [==============================] - 0s 294ms/step - loss: 0.3914 - val_loss: 0.3634\n",
      "Epoch 47/200\n",
      "1/1 [==============================] - 0s 421ms/step - loss: 0.3912 - val_loss: 0.3634\n",
      "Epoch 48/200\n",
      "1/1 [==============================] - 0s 289ms/step - loss: 0.3910 - val_loss: 0.3635\n",
      "Epoch 49/200\n",
      "1/1 [==============================] - 0s 288ms/step - loss: 0.3908 - val_loss: 0.3636\n",
      "Epoch 50/200\n",
      "1/1 [==============================] - 0s 302ms/step - loss: 0.3906 - val_loss: 0.3636\n",
      "Epoch 51/200\n",
      "1/1 [==============================] - 0s 291ms/step - loss: 0.3904 - val_loss: 0.3637\n",
      "Epoch 52/200\n",
      "1/1 [==============================] - 0s 279ms/step - loss: 0.3902 - val_loss: 0.3637\n",
      "Epoch 53/200\n",
      "1/1 [==============================] - 0s 301ms/step - loss: 0.3900 - val_loss: 0.3636\n",
      "Epoch 54/200\n",
      "1/1 [==============================] - 0s 299ms/step - loss: 0.3898 - val_loss: 0.3636\n",
      "Epoch 55/200\n",
      "1/1 [==============================] - 1s 803ms/step - loss: 0.3896 - val_loss: 0.3634\n",
      "Epoch 56/200\n",
      "1/1 [==============================] - 1s 783ms/step - loss: 0.3894 - val_loss: 0.3633\n",
      "Epoch 57/200\n",
      "1/1 [==============================] - 2s 2s/step - loss: 0.3892 - val_loss: 0.3631\n",
      "Epoch 58/200\n",
      "1/1 [==============================] - 2s 2s/step - loss: 0.3890 - val_loss: 0.3628\n",
      "Epoch 59/200\n",
      "1/1 [==============================] - 2s 2s/step - loss: 0.3888 - val_loss: 0.3625\n",
      "Epoch 60/200\n",
      "1/1 [==============================] - 1s 618ms/step - loss: 0.3886 - val_loss: 0.3621\n",
      "Epoch 61/200\n",
      "1/1 [==============================] - 2s 2s/step - loss: 0.3884 - val_loss: 0.3617\n",
      "Epoch 62/200\n",
      "1/1 [==============================] - 0s 395ms/step - loss: 0.3881 - val_loss: 0.3613\n",
      "Epoch 63/200\n",
      "1/1 [==============================] - 0s 347ms/step - loss: 0.3879 - val_loss: 0.3608\n",
      "Epoch 64/200\n",
      "1/1 [==============================] - 0s 414ms/step - loss: 0.3877 - val_loss: 0.3603\n",
      "Epoch 65/200\n",
      "1/1 [==============================] - 1s 1s/step - loss: 0.3875 - val_loss: 0.3598\n",
      "Epoch 66/200\n",
      "1/1 [==============================] - 1s 1s/step - loss: 0.3873 - val_loss: 0.3592\n",
      "Epoch 67/200\n",
      "1/1 [==============================] - 0s 297ms/step - loss: 0.3870 - val_loss: 0.3586\n",
      "Epoch 68/200\n",
      "1/1 [==============================] - 0s 326ms/step - loss: 0.3868 - val_loss: 0.3581\n",
      "Epoch 69/200\n",
      "1/1 [==============================] - 0s 302ms/step - loss: 0.3866 - val_loss: 0.3575\n",
      "Epoch 70/200\n",
      "1/1 [==============================] - 0s 302ms/step - loss: 0.3864 - val_loss: 0.3569\n",
      "Epoch 71/200\n",
      "1/1 [==============================] - 0s 443ms/step - loss: 0.3861 - val_loss: 0.3564\n",
      "Epoch 72/200\n",
      "1/1 [==============================] - 0s 330ms/step - loss: 0.3859 - val_loss: 0.3558\n",
      "Epoch 73/200\n",
      "1/1 [==============================] - 0s 319ms/step - loss: 0.3856 - val_loss: 0.3553\n",
      "Epoch 74/200\n",
      "1/1 [==============================] - 2s 2s/step - loss: 0.3854 - val_loss: 0.3548\n",
      "Epoch 75/200\n",
      "1/1 [==============================] - 1s 636ms/step - loss: 0.3852 - val_loss: 0.3544\n",
      "Epoch 76/200\n",
      "1/1 [==============================] - 1s 691ms/step - loss: 0.3849 - val_loss: 0.3539\n",
      "Epoch 77/200\n",
      "1/1 [==============================] - 2s 2s/step - loss: 0.3847 - val_loss: 0.3535\n",
      "Epoch 78/200\n",
      "1/1 [==============================] - 2s 2s/step - loss: 0.3844 - val_loss: 0.3531\n",
      "Epoch 79/200\n",
      "1/1 [==============================] - 1s 628ms/step - loss: 0.3842 - val_loss: 0.3527\n",
      "Epoch 80/200\n",
      "1/1 [==============================] - 2s 2s/step - loss: 0.3839 - val_loss: 0.3523\n",
      "Epoch 81/200\n",
      "1/1 [==============================] - 1s 1s/step - loss: 0.3836 - val_loss: 0.3520\n",
      "Epoch 82/200\n",
      "1/1 [==============================] - 0s 292ms/step - loss: 0.3834 - val_loss: 0.3516\n",
      "Epoch 83/200\n",
      "1/1 [==============================] - 0s 289ms/step - loss: 0.3831 - val_loss: 0.3512\n"
     ]
    },
    {
     "name": "stdout",
     "output_type": "stream",
     "text": [
      "Epoch 84/200\n",
      "1/1 [==============================] - 0s 303ms/step - loss: 0.3828 - val_loss: 0.3508\n",
      "Epoch 85/200\n",
      "1/1 [==============================] - 0s 322ms/step - loss: 0.3825 - val_loss: 0.3504\n",
      "Epoch 86/200\n",
      "1/1 [==============================] - 0s 288ms/step - loss: 0.3823 - val_loss: 0.3499\n",
      "Epoch 87/200\n",
      "1/1 [==============================] - 0s 483ms/step - loss: 0.3820 - val_loss: 0.3495\n",
      "Epoch 88/200\n",
      "1/1 [==============================] - 2s 2s/step - loss: 0.3817 - val_loss: 0.3490\n",
      "Epoch 89/200\n",
      "1/1 [==============================] - 1s 821ms/step - loss: 0.3814 - val_loss: 0.3484\n",
      "Epoch 90/200\n",
      "1/1 [==============================] - 1s 1s/step - loss: 0.3811 - val_loss: 0.3479\n",
      "Epoch 91/200\n",
      "1/1 [==============================] - 1s 757ms/step - loss: 0.3808 - val_loss: 0.3473\n",
      "Epoch 92/200\n",
      "1/1 [==============================] - 1s 1s/step - loss: 0.3805 - val_loss: 0.3467\n",
      "Epoch 93/200\n",
      "1/1 [==============================] - 2s 2s/step - loss: 0.3802 - val_loss: 0.3461\n",
      "Epoch 94/200\n",
      "1/1 [==============================] - 0s 433ms/step - loss: 0.3799 - val_loss: 0.3455\n",
      "Epoch 95/200\n",
      "1/1 [==============================] - 2s 2s/step - loss: 0.3796 - val_loss: 0.3449\n",
      "Epoch 96/200\n",
      "1/1 [==============================] - 1s 1s/step - loss: 0.3793 - val_loss: 0.3444\n",
      "Epoch 97/200\n",
      "1/1 [==============================] - 1s 565ms/step - loss: 0.3790 - val_loss: 0.3438\n",
      "Epoch 98/200\n",
      "1/1 [==============================] - 1s 597ms/step - loss: 0.3787 - val_loss: 0.3432\n",
      "Epoch 99/200\n",
      "1/1 [==============================] - 0s 357ms/step - loss: 0.3784 - val_loss: 0.3427\n",
      "Epoch 100/200\n",
      "1/1 [==============================] - 0s 290ms/step - loss: 0.3781 - val_loss: 0.3422\n",
      "Epoch 101/200\n",
      "1/1 [==============================] - 0s 311ms/step - loss: 0.3778 - val_loss: 0.3417\n",
      "Epoch 102/200\n",
      "1/1 [==============================] - 0s 299ms/step - loss: 0.3775 - val_loss: 0.3412\n",
      "Epoch 103/200\n",
      "1/1 [==============================] - 0s 336ms/step - loss: 0.3772 - val_loss: 0.3407\n",
      "Epoch 104/200\n",
      "1/1 [==============================] - 0s 281ms/step - loss: 0.3769 - val_loss: 0.3402\n",
      "Epoch 105/200\n",
      "1/1 [==============================] - 0s 315ms/step - loss: 0.3765 - val_loss: 0.3398\n",
      "Epoch 106/200\n",
      "1/1 [==============================] - 0s 325ms/step - loss: 0.3762 - val_loss: 0.3393\n",
      "Epoch 107/200\n",
      "1/1 [==============================] - 0s 310ms/step - loss: 0.3759 - val_loss: 0.3387\n",
      "Epoch 108/200\n",
      "1/1 [==============================] - 1s 734ms/step - loss: 0.3756 - val_loss: 0.3382\n",
      "Epoch 109/200\n",
      "1/1 [==============================] - 0s 289ms/step - loss: 0.3753 - val_loss: 0.3377\n",
      "Epoch 110/200\n",
      "1/1 [==============================] - 1s 1s/step - loss: 0.3750 - val_loss: 0.3371\n",
      "Epoch 111/200\n",
      "1/1 [==============================] - 1s 1s/step - loss: 0.3747 - val_loss: 0.3365\n",
      "Epoch 112/200\n",
      "1/1 [==============================] - 2s 2s/step - loss: 0.3744 - val_loss: 0.3359\n",
      "Epoch 113/200\n",
      "1/1 [==============================] - 1s 1s/step - loss: 0.3740 - val_loss: 0.3353\n",
      "Epoch 114/200\n",
      "1/1 [==============================] - 1s 1s/step - loss: 0.3737 - val_loss: 0.3346\n",
      "Epoch 115/200\n",
      "1/1 [==============================] - 0s 499ms/step - loss: 0.3734 - val_loss: 0.3340\n",
      "Epoch 116/200\n",
      "1/1 [==============================] - 2s 2s/step - loss: 0.3731 - val_loss: 0.3334\n",
      "Epoch 117/200\n",
      "1/1 [==============================] - 0s 381ms/step - loss: 0.3728 - val_loss: 0.3328\n",
      "Epoch 118/200\n",
      "1/1 [==============================] - 1s 1s/step - loss: 0.3725 - val_loss: 0.3322\n",
      "Epoch 119/200\n",
      "1/1 [==============================] - 2s 2s/step - loss: 0.3722 - val_loss: 0.3317\n",
      "Epoch 120/200\n",
      "1/1 [==============================] - 0s 277ms/step - loss: 0.3718 - val_loss: 0.3311\n",
      "Epoch 121/200\n",
      "1/1 [==============================] - 0s 350ms/step - loss: 0.3715 - val_loss: 0.3306\n",
      "Epoch 122/200\n",
      "1/1 [==============================] - 1s 1s/step - loss: 0.3712 - val_loss: 0.3301\n",
      "Epoch 123/200\n",
      "1/1 [==============================] - 1s 1s/step - loss: 0.3709 - val_loss: 0.3296\n",
      "Epoch 124/200\n",
      "1/1 [==============================] - 1s 682ms/step - loss: 0.3706 - val_loss: 0.3291\n",
      "Epoch 125/200\n",
      "1/1 [==============================] - 2s 2s/step - loss: 0.3702 - val_loss: 0.3286\n",
      "Epoch 126/200\n",
      "1/1 [==============================] - 2s 2s/step - loss: 0.3699 - val_loss: 0.3281\n",
      "Epoch 127/200\n",
      "1/1 [==============================] - 2s 2s/step - loss: 0.3696 - val_loss: 0.3277\n",
      "Epoch 128/200\n",
      "1/1 [==============================] - 2s 2s/step - loss: 0.3692 - val_loss: 0.3272\n",
      "Epoch 129/200\n",
      "1/1 [==============================] - 0s 379ms/step - loss: 0.3689 - val_loss: 0.3267\n",
      "Epoch 130/200\n",
      "1/1 [==============================] - 1s 1s/step - loss: 0.3685 - val_loss: 0.3263\n",
      "Epoch 131/200\n",
      "1/1 [==============================] - 0s 334ms/step - loss: 0.3682 - val_loss: 0.3258\n",
      "Epoch 132/200\n",
      "1/1 [==============================] - 2s 2s/step - loss: 0.3679 - val_loss: 0.3253\n",
      "Epoch 133/200\n",
      "1/1 [==============================] - 0s 295ms/step - loss: 0.3675 - val_loss: 0.3248\n",
      "Epoch 134/200\n",
      "1/1 [==============================] - 0s 293ms/step - loss: 0.3671 - val_loss: 0.3242\n",
      "Epoch 135/200\n",
      "1/1 [==============================] - 0s 370ms/step - loss: 0.3668 - val_loss: 0.3237\n",
      "Epoch 136/200\n",
      "1/1 [==============================] - 0s 318ms/step - loss: 0.3664 - val_loss: 0.3232\n",
      "Epoch 137/200\n",
      "1/1 [==============================] - 1s 1s/step - loss: 0.3660 - val_loss: 0.3226\n",
      "Epoch 138/200\n",
      "1/1 [==============================] - 1s 569ms/step - loss: 0.3657 - val_loss: 0.3221\n",
      "Epoch 139/200\n",
      "1/1 [==============================] - 2s 2s/step - loss: 0.3653 - val_loss: 0.3215\n",
      "Epoch 140/200\n",
      "1/1 [==============================] - 1s 1s/step - loss: 0.3649 - val_loss: 0.3209\n",
      "Epoch 141/200\n",
      "1/1 [==============================] - 0s 381ms/step - loss: 0.3645 - val_loss: 0.3203\n",
      "Epoch 142/200\n",
      "1/1 [==============================] - 1s 907ms/step - loss: 0.3641 - val_loss: 0.3197\n",
      "Epoch 143/200\n",
      "1/1 [==============================] - 1s 1s/step - loss: 0.3637 - val_loss: 0.3191\n",
      "Epoch 144/200\n",
      "1/1 [==============================] - 1s 530ms/step - loss: 0.3633 - val_loss: 0.3185\n",
      "Epoch 145/200\n",
      "1/1 [==============================] - 2s 2s/step - loss: 0.3629 - val_loss: 0.3178\n",
      "Epoch 146/200\n",
      "1/1 [==============================] - 1s 518ms/step - loss: 0.3624 - val_loss: 0.3172\n",
      "Epoch 147/200\n",
      "1/1 [==============================] - 1s 886ms/step - loss: 0.3620 - val_loss: 0.3165\n",
      "Epoch 148/200\n",
      "1/1 [==============================] - 1s 609ms/step - loss: 0.3615 - val_loss: 0.3159\n",
      "Epoch 149/200\n",
      "1/1 [==============================] - 2s 2s/step - loss: 0.3611 - val_loss: 0.3152\n",
      "Epoch 150/200\n",
      "1/1 [==============================] - 0s 355ms/step - loss: 0.3606 - val_loss: 0.3145\n",
      "Epoch 151/200\n",
      "1/1 [==============================] - 0s 289ms/step - loss: 0.3602 - val_loss: 0.3138\n",
      "Epoch 152/200\n",
      "1/1 [==============================] - 0s 292ms/step - loss: 0.3597 - val_loss: 0.3131\n",
      "Epoch 153/200\n",
      "1/1 [==============================] - 0s 289ms/step - loss: 0.3592 - val_loss: 0.3123\n",
      "Epoch 154/200\n",
      "1/1 [==============================] - 0s 313ms/step - loss: 0.3587 - val_loss: 0.3116\n",
      "Epoch 155/200\n",
      "1/1 [==============================] - 0s 286ms/step - loss: 0.3582 - val_loss: 0.3108\n",
      "Epoch 156/200\n",
      "1/1 [==============================] - 1s 666ms/step - loss: 0.3577 - val_loss: 0.3101\n",
      "Epoch 157/200\n",
      "1/1 [==============================] - 1s 1s/step - loss: 0.3571 - val_loss: 0.3093\n",
      "Epoch 158/200\n",
      "1/1 [==============================] - 2s 2s/step - loss: 0.3566 - val_loss: 0.3085\n",
      "Epoch 159/200\n",
      "1/1 [==============================] - 1s 653ms/step - loss: 0.3560 - val_loss: 0.3077\n",
      "Epoch 160/200\n",
      "1/1 [==============================] - 1s 754ms/step - loss: 0.3555 - val_loss: 0.3068\n",
      "Epoch 161/200\n",
      "1/1 [==============================] - 1s 629ms/step - loss: 0.3549 - val_loss: 0.3060\n",
      "Epoch 162/200\n",
      "1/1 [==============================] - 4s 4s/step - loss: 0.3543 - val_loss: 0.3051\n",
      "Epoch 163/200\n",
      "1/1 [==============================] - 2s 2s/step - loss: 0.3537 - val_loss: 0.3043\n",
      "Epoch 164/200\n",
      "1/1 [==============================] - 2s 2s/step - loss: 0.3531 - val_loss: 0.3034\n",
      "Epoch 165/200\n",
      "1/1 [==============================] - 0s 381ms/step - loss: 0.3525 - val_loss: 0.3025\n",
      "Epoch 166/200\n"
     ]
    },
    {
     "name": "stdout",
     "output_type": "stream",
     "text": [
      "1/1 [==============================] - 0s 305ms/step - loss: 0.3519 - val_loss: 0.3016\n",
      "Epoch 167/200\n",
      "1/1 [==============================] - 0s 283ms/step - loss: 0.3512 - val_loss: 0.3007\n",
      "Epoch 168/200\n",
      "1/1 [==============================] - 0s 280ms/step - loss: 0.3506 - val_loss: 0.2998\n",
      "Epoch 169/200\n",
      "1/1 [==============================] - 0s 306ms/step - loss: 0.3499 - val_loss: 0.2989\n",
      "Epoch 170/200\n",
      "1/1 [==============================] - 1s 897ms/step - loss: 0.3492 - val_loss: 0.2980\n",
      "Epoch 171/200\n",
      "1/1 [==============================] - 2s 2s/step - loss: 0.3485 - val_loss: 0.2970\n",
      "Epoch 172/200\n",
      "1/1 [==============================] - 1s 846ms/step - loss: 0.3478 - val_loss: 0.2961\n",
      "Epoch 173/200\n",
      "1/1 [==============================] - 1s 578ms/step - loss: 0.3471 - val_loss: 0.2951\n",
      "Epoch 174/200\n",
      "1/1 [==============================] - 1s 1s/step - loss: 0.3464 - val_loss: 0.2941\n",
      "Epoch 175/200\n",
      "1/1 [==============================] - 1s 591ms/step - loss: 0.3457 - val_loss: 0.2932\n",
      "Epoch 176/200\n",
      "1/1 [==============================] - 1s 905ms/step - loss: 0.3449 - val_loss: 0.2922\n",
      "Epoch 177/200\n",
      "1/1 [==============================] - 1s 673ms/step - loss: 0.3442 - val_loss: 0.2912\n",
      "Epoch 178/200\n",
      "1/1 [==============================] - 1s 1s/step - loss: 0.3434 - val_loss: 0.2901\n",
      "Epoch 179/200\n",
      "1/1 [==============================] - 1s 856ms/step - loss: 0.3426 - val_loss: 0.2891\n",
      "Epoch 180/200\n",
      "1/1 [==============================] - 2s 2s/step - loss: 0.3419 - val_loss: 0.2880\n",
      "Epoch 181/200\n",
      "1/1 [==============================] - 1s 1s/step - loss: 0.3411 - val_loss: 0.2870\n",
      "Epoch 182/200\n",
      "1/1 [==============================] - 0s 410ms/step - loss: 0.3403 - val_loss: 0.2859\n",
      "Epoch 183/200\n",
      "1/1 [==============================] - 0s 288ms/step - loss: 0.3395 - val_loss: 0.2848\n",
      "Epoch 184/200\n",
      "1/1 [==============================] - 0s 302ms/step - loss: 0.3386 - val_loss: 0.2837\n",
      "Epoch 185/200\n",
      "1/1 [==============================] - 0s 279ms/step - loss: 0.3378 - val_loss: 0.2826\n",
      "Epoch 186/200\n",
      "1/1 [==============================] - 0s 337ms/step - loss: 0.3370 - val_loss: 0.2814\n",
      "Epoch 187/200\n",
      "1/1 [==============================] - 0s 309ms/step - loss: 0.3361 - val_loss: 0.2802\n",
      "Epoch 188/200\n",
      "1/1 [==============================] - 0s 300ms/step - loss: 0.3353 - val_loss: 0.2791\n",
      "Epoch 189/200\n",
      "1/1 [==============================] - 1s 716ms/step - loss: 0.3344 - val_loss: 0.2779\n",
      "Epoch 190/200\n",
      "1/1 [==============================] - 1s 520ms/step - loss: 0.3335 - val_loss: 0.2766\n",
      "Epoch 191/200\n",
      "1/1 [==============================] - 1s 1s/step - loss: 0.3326 - val_loss: 0.2754\n",
      "Epoch 192/200\n",
      "1/1 [==============================] - 2s 2s/step - loss: 0.3316 - val_loss: 0.2742\n",
      "Epoch 193/200\n",
      "1/1 [==============================] - 2s 2s/step - loss: 0.3307 - val_loss: 0.2729\n",
      "Epoch 194/200\n",
      "1/1 [==============================] - 3s 3s/step - loss: 0.3298 - val_loss: 0.2716\n",
      "Epoch 195/200\n",
      "1/1 [==============================] - 1s 715ms/step - loss: 0.3288 - val_loss: 0.2703\n",
      "Epoch 196/200\n",
      "1/1 [==============================] - 2s 2s/step - loss: 0.3278 - val_loss: 0.2689\n",
      "Epoch 197/200\n",
      "1/1 [==============================] - 2s 2s/step - loss: 0.3268 - val_loss: 0.2676\n",
      "Epoch 198/200\n",
      "1/1 [==============================] - 1s 503ms/step - loss: 0.3258 - val_loss: 0.2662\n",
      "Epoch 199/200\n",
      "1/1 [==============================] - 1s 518ms/step - loss: 0.3248 - val_loss: 0.2648\n",
      "Epoch 200/200\n",
      "1/1 [==============================] - 2s 2s/step - loss: 0.3238 - val_loss: 0.2634\n"
     ]
    },
    {
     "name": "stderr",
     "output_type": "stream",
     "text": [
      "WARNING:absl:Found untraced functions such as lstm_cell_layer_call_fn, lstm_cell_layer_call_and_return_conditional_losses, lstm_cell_1_layer_call_fn, lstm_cell_1_layer_call_and_return_conditional_losses while saving (showing 4 of 4). These functions will not be directly callable after loading.\n"
     ]
    },
    {
     "name": "stdout",
     "output_type": "stream",
     "text": [
      "INFO:tensorflow:Assets written to: C:\\Users\\user\\AppData\\Local\\Temp\\tmppqhgya_v\\model\\data\\model\\assets\n"
     ]
    },
    {
     "name": "stderr",
     "output_type": "stream",
     "text": [
      "INFO:tensorflow:Assets written to: C:\\Users\\user\\AppData\\Local\\Temp\\tmppqhgya_v\\model\\data\\model\\assets\n"
     ]
    }
   ],
   "source": [
    "mlflow.set_experiment(\"LSTM\")\n",
    "mlflow.tensorflow.autolog()\n",
    "history = model.fit(DatasetTrain, epochs=EPOCHS, validation_data=DatasetVal, verbose=1)"
   ]
  },
  {
   "cell_type": "code",
   "execution_count": 34,
   "metadata": {},
   "outputs": [],
   "source": [
    "from time import gmtime, strftime"
   ]
  },
  {
   "cell_type": "code",
   "execution_count": 37,
   "metadata": {},
   "outputs": [
    {
     "name": "stderr",
     "output_type": "stream",
     "text": [
      "WARNING:absl:Found untraced functions such as lstm_cell_layer_call_fn, lstm_cell_layer_call_and_return_conditional_losses, lstm_cell_1_layer_call_fn, lstm_cell_1_layer_call_and_return_conditional_losses while saving (showing 4 of 4). These functions will not be directly callable after loading.\n"
     ]
    },
    {
     "name": "stdout",
     "output_type": "stream",
     "text": [
      "INFO:tensorflow:Assets written to: ../models/LSTM_sales-2022-05-28-13-30-53.pkl\\assets\n"
     ]
    },
    {
     "name": "stderr",
     "output_type": "stream",
     "text": [
      "INFO:tensorflow:Assets written to: ../models/LSTM_sales-2022-05-28-13-30-53.pkl\\assets\n"
     ]
    }
   ],
   "source": [
    "time = strftime(\"%Y-%m-%d-%H-%M-%S\", gmtime())\n",
    "model.save(f'../models/LSTM_sales-{time}.pkl')"
   ]
  },
  {
   "cell_type": "code",
   "execution_count": null,
   "metadata": {},
   "outputs": [],
   "source": []
  }
 ],
 "metadata": {
  "interpreter": {
   "hash": "fa473d0b35530556de663f3f232b177b7537aee5bda74ac2b84ad2c8a96cf538"
  },
  "kernelspec": {
   "display_name": "Python 3 (ipykernel)",
   "language": "python",
   "name": "python3"
  },
  "language_info": {
   "codemirror_mode": {
    "name": "ipython",
    "version": 3
   },
   "file_extension": ".py",
   "mimetype": "text/x-python",
   "name": "python",
   "nbconvert_exporter": "python",
   "pygments_lexer": "ipython3",
   "version": "3.8.13"
  }
 },
 "nbformat": 4,
 "nbformat_minor": 2
}
